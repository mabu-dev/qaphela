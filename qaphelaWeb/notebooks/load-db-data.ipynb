{
 "metadata": {
  "language_info": {
   "codemirror_mode": {
    "name": "ipython",
    "version": 3
   },
   "file_extension": ".py",
   "mimetype": "text/x-python",
   "name": "python",
   "nbconvert_exporter": "python",
   "pygments_lexer": "ipython3",
   "version": "3.8.5-final"
  },
  "orig_nbformat": 2,
  "kernelspec": {
   "name": "Python 3.8.5 64-bit",
   "display_name": "Python 3.8.5 64-bit",
   "metadata": {
    "interpreter": {
     "hash": "bb89c8851fcf48e014594263135625c9ef445bf49a1bbad1cc739959a5da09cf"
    }
   }
  }
 },
 "nbformat": 4,
 "nbformat_minor": 2,
 "cells": [
  {
   "cell_type": "code",
   "execution_count": 63,
   "metadata": {},
   "outputs": [],
   "source": [
    "import pandas as pd\n",
    "import numpy as np\n",
    "from datetime import timedelta, datetime\n",
    "import sys,json\n",
    "import os\n",
    "import sqlalchemy as sa\n",
    "sys.path.append(\"../\")\n",
    "import django\n",
    "os.environ.setdefault('DJANGO_SETTINGS_MODULE', 'qaphelaWeb.settings')\n",
    "os.environ[\"DJANGO_ALLOW_ASYNC_UNSAFE\"] = \"true\"\n",
    "django.setup()\n",
    "from api import models\n",
    "from django.db.models import Count, Avg, Q, Prefetch, F, Subquery\n",
    "\n",
    "from IPython.display import clear_output"
   ]
  },
  {
   "cell_type": "code",
   "execution_count": 64,
   "metadata": {},
   "outputs": [],
   "source": [
    "from django.core.mail import EmailMultiAlternatives, get_connection, send_mail"
   ]
  },
  {
   "cell_type": "code",
   "execution_count": null,
   "metadata": {},
   "outputs": [],
   "source": []
  },
  {
   "cell_type": "code",
   "execution_count": 65,
   "metadata": {},
   "outputs": [
    {
     "output_type": "error",
     "ename": "ConnectionRefusedError",
     "evalue": "[Errno 61] Connection refused",
     "traceback": [
      "\u001b[0;31m---------------------------------------------------------------------------\u001b[0m",
      "\u001b[0;31mConnectionRefusedError\u001b[0m                    Traceback (most recent call last)",
      "\u001b[0;32m<ipython-input-65-ec4b7152c739>\u001b[0m in \u001b[0;36m<module>\u001b[0;34m\u001b[0m\n\u001b[0;32m----> 1\u001b[0;31m \u001b[0msend_mail\u001b[0m\u001b[0;34m(\u001b[0m\u001b[0;34m\"Test\"\u001b[0m\u001b[0;34m,\u001b[0m \u001b[0;34m\"Hello\"\u001b[0m\u001b[0;34m,\u001b[0m \u001b[0;34m\"abc@abc.com\"\u001b[0m\u001b[0;34m,\u001b[0m \u001b[0;34m[\u001b[0m\u001b[0;34m\"manailengmj@gmail.com\"\u001b[0m\u001b[0;34m]\u001b[0m\u001b[0;34m,\u001b[0m \u001b[0mfail_silently\u001b[0m\u001b[0;34m=\u001b[0m\u001b[0;32mFalse\u001b[0m\u001b[0;34m)\u001b[0m\u001b[0;34m\u001b[0m\u001b[0;34m\u001b[0m\u001b[0m\n\u001b[0m",
      "\u001b[0;32m~/anaconda3/envs/qaphelaApp/lib/python3.8/site-packages/django/core/mail/__init__.py\u001b[0m in \u001b[0;36msend_mail\u001b[0;34m(subject, message, from_email, recipient_list, fail_silently, auth_user, auth_password, connection, html_message)\u001b[0m\n\u001b[1;32m     59\u001b[0m         \u001b[0mmail\u001b[0m\u001b[0;34m.\u001b[0m\u001b[0mattach_alternative\u001b[0m\u001b[0;34m(\u001b[0m\u001b[0mhtml_message\u001b[0m\u001b[0;34m,\u001b[0m \u001b[0;34m'text/html'\u001b[0m\u001b[0;34m)\u001b[0m\u001b[0;34m\u001b[0m\u001b[0;34m\u001b[0m\u001b[0m\n\u001b[1;32m     60\u001b[0m \u001b[0;34m\u001b[0m\u001b[0m\n\u001b[0;32m---> 61\u001b[0;31m     \u001b[0;32mreturn\u001b[0m \u001b[0mmail\u001b[0m\u001b[0;34m.\u001b[0m\u001b[0msend\u001b[0m\u001b[0;34m(\u001b[0m\u001b[0;34m)\u001b[0m\u001b[0;34m\u001b[0m\u001b[0;34m\u001b[0m\u001b[0m\n\u001b[0m\u001b[1;32m     62\u001b[0m \u001b[0;34m\u001b[0m\u001b[0m\n\u001b[1;32m     63\u001b[0m \u001b[0;34m\u001b[0m\u001b[0m\n",
      "\u001b[0;32m~/anaconda3/envs/qaphelaApp/lib/python3.8/site-packages/django/core/mail/message.py\u001b[0m in \u001b[0;36msend\u001b[0;34m(self, fail_silently)\u001b[0m\n\u001b[1;32m    282\u001b[0m             \u001b[0;31m# send to.\u001b[0m\u001b[0;34m\u001b[0m\u001b[0;34m\u001b[0m\u001b[0;34m\u001b[0m\u001b[0m\n\u001b[1;32m    283\u001b[0m             \u001b[0;32mreturn\u001b[0m \u001b[0;36m0\u001b[0m\u001b[0;34m\u001b[0m\u001b[0;34m\u001b[0m\u001b[0m\n\u001b[0;32m--> 284\u001b[0;31m         \u001b[0;32mreturn\u001b[0m \u001b[0mself\u001b[0m\u001b[0;34m.\u001b[0m\u001b[0mget_connection\u001b[0m\u001b[0;34m(\u001b[0m\u001b[0mfail_silently\u001b[0m\u001b[0;34m)\u001b[0m\u001b[0;34m.\u001b[0m\u001b[0msend_messages\u001b[0m\u001b[0;34m(\u001b[0m\u001b[0;34m[\u001b[0m\u001b[0mself\u001b[0m\u001b[0;34m]\u001b[0m\u001b[0;34m)\u001b[0m\u001b[0;34m\u001b[0m\u001b[0;34m\u001b[0m\u001b[0m\n\u001b[0m\u001b[1;32m    285\u001b[0m \u001b[0;34m\u001b[0m\u001b[0m\n\u001b[1;32m    286\u001b[0m     \u001b[0;32mdef\u001b[0m \u001b[0mattach\u001b[0m\u001b[0;34m(\u001b[0m\u001b[0mself\u001b[0m\u001b[0;34m,\u001b[0m \u001b[0mfilename\u001b[0m\u001b[0;34m=\u001b[0m\u001b[0;32mNone\u001b[0m\u001b[0;34m,\u001b[0m \u001b[0mcontent\u001b[0m\u001b[0;34m=\u001b[0m\u001b[0;32mNone\u001b[0m\u001b[0;34m,\u001b[0m \u001b[0mmimetype\u001b[0m\u001b[0;34m=\u001b[0m\u001b[0;32mNone\u001b[0m\u001b[0;34m)\u001b[0m\u001b[0;34m:\u001b[0m\u001b[0;34m\u001b[0m\u001b[0;34m\u001b[0m\u001b[0m\n",
      "\u001b[0;32m~/anaconda3/envs/qaphelaApp/lib/python3.8/site-packages/django/core/mail/backends/smtp.py\u001b[0m in \u001b[0;36msend_messages\u001b[0;34m(self, email_messages)\u001b[0m\n\u001b[1;32m    100\u001b[0m             \u001b[0;32mreturn\u001b[0m \u001b[0;36m0\u001b[0m\u001b[0;34m\u001b[0m\u001b[0;34m\u001b[0m\u001b[0m\n\u001b[1;32m    101\u001b[0m         \u001b[0;32mwith\u001b[0m \u001b[0mself\u001b[0m\u001b[0;34m.\u001b[0m\u001b[0m_lock\u001b[0m\u001b[0;34m:\u001b[0m\u001b[0;34m\u001b[0m\u001b[0;34m\u001b[0m\u001b[0m\n\u001b[0;32m--> 102\u001b[0;31m             \u001b[0mnew_conn_created\u001b[0m \u001b[0;34m=\u001b[0m \u001b[0mself\u001b[0m\u001b[0;34m.\u001b[0m\u001b[0mopen\u001b[0m\u001b[0;34m(\u001b[0m\u001b[0;34m)\u001b[0m\u001b[0;34m\u001b[0m\u001b[0;34m\u001b[0m\u001b[0m\n\u001b[0m\u001b[1;32m    103\u001b[0m             \u001b[0;32mif\u001b[0m \u001b[0;32mnot\u001b[0m \u001b[0mself\u001b[0m\u001b[0;34m.\u001b[0m\u001b[0mconnection\u001b[0m \u001b[0;32mor\u001b[0m \u001b[0mnew_conn_created\u001b[0m \u001b[0;32mis\u001b[0m \u001b[0;32mNone\u001b[0m\u001b[0;34m:\u001b[0m\u001b[0;34m\u001b[0m\u001b[0;34m\u001b[0m\u001b[0m\n\u001b[1;32m    104\u001b[0m                 \u001b[0;31m# We failed silently on open().\u001b[0m\u001b[0;34m\u001b[0m\u001b[0;34m\u001b[0m\u001b[0;34m\u001b[0m\u001b[0m\n",
      "\u001b[0;32m~/anaconda3/envs/qaphelaApp/lib/python3.8/site-packages/django/core/mail/backends/smtp.py\u001b[0m in \u001b[0;36mopen\u001b[0;34m(self)\u001b[0m\n\u001b[1;32m     60\u001b[0m             })\n\u001b[1;32m     61\u001b[0m         \u001b[0;32mtry\u001b[0m\u001b[0;34m:\u001b[0m\u001b[0;34m\u001b[0m\u001b[0;34m\u001b[0m\u001b[0m\n\u001b[0;32m---> 62\u001b[0;31m             \u001b[0mself\u001b[0m\u001b[0;34m.\u001b[0m\u001b[0mconnection\u001b[0m \u001b[0;34m=\u001b[0m \u001b[0mself\u001b[0m\u001b[0;34m.\u001b[0m\u001b[0mconnection_class\u001b[0m\u001b[0;34m(\u001b[0m\u001b[0mself\u001b[0m\u001b[0;34m.\u001b[0m\u001b[0mhost\u001b[0m\u001b[0;34m,\u001b[0m \u001b[0mself\u001b[0m\u001b[0;34m.\u001b[0m\u001b[0mport\u001b[0m\u001b[0;34m,\u001b[0m \u001b[0;34m**\u001b[0m\u001b[0mconnection_params\u001b[0m\u001b[0;34m)\u001b[0m\u001b[0;34m\u001b[0m\u001b[0;34m\u001b[0m\u001b[0m\n\u001b[0m\u001b[1;32m     63\u001b[0m \u001b[0;34m\u001b[0m\u001b[0m\n\u001b[1;32m     64\u001b[0m             \u001b[0;31m# TLS/SSL are mutually exclusive, so only attempt TLS over\u001b[0m\u001b[0;34m\u001b[0m\u001b[0;34m\u001b[0m\u001b[0;34m\u001b[0m\u001b[0m\n",
      "\u001b[0;32m~/anaconda3/envs/qaphelaApp/lib/python3.8/smtplib.py\u001b[0m in \u001b[0;36m__init__\u001b[0;34m(self, host, port, local_hostname, timeout, source_address)\u001b[0m\n\u001b[1;32m    251\u001b[0m \u001b[0;34m\u001b[0m\u001b[0m\n\u001b[1;32m    252\u001b[0m         \u001b[0;32mif\u001b[0m \u001b[0mhost\u001b[0m\u001b[0;34m:\u001b[0m\u001b[0;34m\u001b[0m\u001b[0;34m\u001b[0m\u001b[0m\n\u001b[0;32m--> 253\u001b[0;31m             \u001b[0;34m(\u001b[0m\u001b[0mcode\u001b[0m\u001b[0;34m,\u001b[0m \u001b[0mmsg\u001b[0m\u001b[0;34m)\u001b[0m \u001b[0;34m=\u001b[0m \u001b[0mself\u001b[0m\u001b[0;34m.\u001b[0m\u001b[0mconnect\u001b[0m\u001b[0;34m(\u001b[0m\u001b[0mhost\u001b[0m\u001b[0;34m,\u001b[0m \u001b[0mport\u001b[0m\u001b[0;34m)\u001b[0m\u001b[0;34m\u001b[0m\u001b[0;34m\u001b[0m\u001b[0m\n\u001b[0m\u001b[1;32m    254\u001b[0m             \u001b[0;32mif\u001b[0m \u001b[0mcode\u001b[0m \u001b[0;34m!=\u001b[0m \u001b[0;36m220\u001b[0m\u001b[0;34m:\u001b[0m\u001b[0;34m\u001b[0m\u001b[0;34m\u001b[0m\u001b[0m\n\u001b[1;32m    255\u001b[0m                 \u001b[0mself\u001b[0m\u001b[0;34m.\u001b[0m\u001b[0mclose\u001b[0m\u001b[0;34m(\u001b[0m\u001b[0;34m)\u001b[0m\u001b[0;34m\u001b[0m\u001b[0;34m\u001b[0m\u001b[0m\n",
      "\u001b[0;32m~/anaconda3/envs/qaphelaApp/lib/python3.8/smtplib.py\u001b[0m in \u001b[0;36mconnect\u001b[0;34m(self, host, port, source_address)\u001b[0m\n\u001b[1;32m    337\u001b[0m             \u001b[0mself\u001b[0m\u001b[0;34m.\u001b[0m\u001b[0m_print_debug\u001b[0m\u001b[0;34m(\u001b[0m\u001b[0;34m'connect:'\u001b[0m\u001b[0;34m,\u001b[0m \u001b[0;34m(\u001b[0m\u001b[0mhost\u001b[0m\u001b[0;34m,\u001b[0m \u001b[0mport\u001b[0m\u001b[0;34m)\u001b[0m\u001b[0;34m)\u001b[0m\u001b[0;34m\u001b[0m\u001b[0;34m\u001b[0m\u001b[0m\n\u001b[1;32m    338\u001b[0m         \u001b[0msys\u001b[0m\u001b[0;34m.\u001b[0m\u001b[0maudit\u001b[0m\u001b[0;34m(\u001b[0m\u001b[0;34m\"smtplib.connect\"\u001b[0m\u001b[0;34m,\u001b[0m \u001b[0mself\u001b[0m\u001b[0;34m,\u001b[0m \u001b[0mhost\u001b[0m\u001b[0;34m,\u001b[0m \u001b[0mport\u001b[0m\u001b[0;34m)\u001b[0m\u001b[0;34m\u001b[0m\u001b[0;34m\u001b[0m\u001b[0m\n\u001b[0;32m--> 339\u001b[0;31m         \u001b[0mself\u001b[0m\u001b[0;34m.\u001b[0m\u001b[0msock\u001b[0m \u001b[0;34m=\u001b[0m \u001b[0mself\u001b[0m\u001b[0;34m.\u001b[0m\u001b[0m_get_socket\u001b[0m\u001b[0;34m(\u001b[0m\u001b[0mhost\u001b[0m\u001b[0;34m,\u001b[0m \u001b[0mport\u001b[0m\u001b[0;34m,\u001b[0m \u001b[0mself\u001b[0m\u001b[0;34m.\u001b[0m\u001b[0mtimeout\u001b[0m\u001b[0;34m)\u001b[0m\u001b[0;34m\u001b[0m\u001b[0;34m\u001b[0m\u001b[0m\n\u001b[0m\u001b[1;32m    340\u001b[0m         \u001b[0mself\u001b[0m\u001b[0;34m.\u001b[0m\u001b[0mfile\u001b[0m \u001b[0;34m=\u001b[0m \u001b[0;32mNone\u001b[0m\u001b[0;34m\u001b[0m\u001b[0;34m\u001b[0m\u001b[0m\n\u001b[1;32m    341\u001b[0m         \u001b[0;34m(\u001b[0m\u001b[0mcode\u001b[0m\u001b[0;34m,\u001b[0m \u001b[0mmsg\u001b[0m\u001b[0;34m)\u001b[0m \u001b[0;34m=\u001b[0m \u001b[0mself\u001b[0m\u001b[0;34m.\u001b[0m\u001b[0mgetreply\u001b[0m\u001b[0;34m(\u001b[0m\u001b[0;34m)\u001b[0m\u001b[0;34m\u001b[0m\u001b[0;34m\u001b[0m\u001b[0m\n",
      "\u001b[0;32m~/anaconda3/envs/qaphelaApp/lib/python3.8/smtplib.py\u001b[0m in \u001b[0;36m_get_socket\u001b[0;34m(self, host, port, timeout)\u001b[0m\n\u001b[1;32m    306\u001b[0m         \u001b[0;32mif\u001b[0m \u001b[0mself\u001b[0m\u001b[0;34m.\u001b[0m\u001b[0mdebuglevel\u001b[0m \u001b[0;34m>\u001b[0m \u001b[0;36m0\u001b[0m\u001b[0;34m:\u001b[0m\u001b[0;34m\u001b[0m\u001b[0;34m\u001b[0m\u001b[0m\n\u001b[1;32m    307\u001b[0m             \u001b[0mself\u001b[0m\u001b[0;34m.\u001b[0m\u001b[0m_print_debug\u001b[0m\u001b[0;34m(\u001b[0m\u001b[0;34m'connect: to'\u001b[0m\u001b[0;34m,\u001b[0m \u001b[0;34m(\u001b[0m\u001b[0mhost\u001b[0m\u001b[0;34m,\u001b[0m \u001b[0mport\u001b[0m\u001b[0;34m)\u001b[0m\u001b[0;34m,\u001b[0m \u001b[0mself\u001b[0m\u001b[0;34m.\u001b[0m\u001b[0msource_address\u001b[0m\u001b[0;34m)\u001b[0m\u001b[0;34m\u001b[0m\u001b[0;34m\u001b[0m\u001b[0m\n\u001b[0;32m--> 308\u001b[0;31m         return socket.create_connection((host, port), timeout,\n\u001b[0m\u001b[1;32m    309\u001b[0m                                         self.source_address)\n\u001b[1;32m    310\u001b[0m \u001b[0;34m\u001b[0m\u001b[0m\n",
      "\u001b[0;32m~/anaconda3/envs/qaphelaApp/lib/python3.8/socket.py\u001b[0m in \u001b[0;36mcreate_connection\u001b[0;34m(address, timeout, source_address)\u001b[0m\n\u001b[1;32m    806\u001b[0m     \u001b[0;32mif\u001b[0m \u001b[0merr\u001b[0m \u001b[0;32mis\u001b[0m \u001b[0;32mnot\u001b[0m \u001b[0;32mNone\u001b[0m\u001b[0;34m:\u001b[0m\u001b[0;34m\u001b[0m\u001b[0;34m\u001b[0m\u001b[0m\n\u001b[1;32m    807\u001b[0m         \u001b[0;32mtry\u001b[0m\u001b[0;34m:\u001b[0m\u001b[0;34m\u001b[0m\u001b[0;34m\u001b[0m\u001b[0m\n\u001b[0;32m--> 808\u001b[0;31m             \u001b[0;32mraise\u001b[0m \u001b[0merr\u001b[0m\u001b[0;34m\u001b[0m\u001b[0;34m\u001b[0m\u001b[0m\n\u001b[0m\u001b[1;32m    809\u001b[0m         \u001b[0;32mfinally\u001b[0m\u001b[0;34m:\u001b[0m\u001b[0;34m\u001b[0m\u001b[0;34m\u001b[0m\u001b[0m\n\u001b[1;32m    810\u001b[0m             \u001b[0;31m# Break explicitly a reference cycle\u001b[0m\u001b[0;34m\u001b[0m\u001b[0;34m\u001b[0m\u001b[0;34m\u001b[0m\u001b[0m\n",
      "\u001b[0;32m~/anaconda3/envs/qaphelaApp/lib/python3.8/socket.py\u001b[0m in \u001b[0;36mcreate_connection\u001b[0;34m(address, timeout, source_address)\u001b[0m\n\u001b[1;32m    794\u001b[0m             \u001b[0;32mif\u001b[0m \u001b[0msource_address\u001b[0m\u001b[0;34m:\u001b[0m\u001b[0;34m\u001b[0m\u001b[0;34m\u001b[0m\u001b[0m\n\u001b[1;32m    795\u001b[0m                 \u001b[0msock\u001b[0m\u001b[0;34m.\u001b[0m\u001b[0mbind\u001b[0m\u001b[0;34m(\u001b[0m\u001b[0msource_address\u001b[0m\u001b[0;34m)\u001b[0m\u001b[0;34m\u001b[0m\u001b[0;34m\u001b[0m\u001b[0m\n\u001b[0;32m--> 796\u001b[0;31m             \u001b[0msock\u001b[0m\u001b[0;34m.\u001b[0m\u001b[0mconnect\u001b[0m\u001b[0;34m(\u001b[0m\u001b[0msa\u001b[0m\u001b[0;34m)\u001b[0m\u001b[0;34m\u001b[0m\u001b[0;34m\u001b[0m\u001b[0m\n\u001b[0m\u001b[1;32m    797\u001b[0m             \u001b[0;31m# Break explicitly a reference cycle\u001b[0m\u001b[0;34m\u001b[0m\u001b[0;34m\u001b[0m\u001b[0;34m\u001b[0m\u001b[0m\n\u001b[1;32m    798\u001b[0m             \u001b[0merr\u001b[0m \u001b[0;34m=\u001b[0m \u001b[0;32mNone\u001b[0m\u001b[0;34m\u001b[0m\u001b[0;34m\u001b[0m\u001b[0m\n",
      "\u001b[0;31mConnectionRefusedError\u001b[0m: [Errno 61] Connection refused"
     ]
    }
   ],
   "source": [
    "send_mail(\"Test\", \"Hello\", \"abc@abc.com\", [\"manailengmj@gmail.com\"], fail_silently=False)"
   ]
  },
  {
   "source": [
    "# API via REST"
   ],
   "cell_type": "markdown",
   "metadata": {}
  },
  {
   "cell_type": "code",
   "execution_count": 41,
   "metadata": {},
   "outputs": [],
   "source": [
    "import requests\n",
    "from datetime import datetime\n",
    "import json"
   ]
  },
  {
   "cell_type": "code",
   "execution_count": 43,
   "metadata": {},
   "outputs": [],
   "source": [
    "pickup_address = {\n",
    "    \"address\": \"626 Kamdebo Rd, Florauna, Pretoria, 0182, South Africa\",\n",
    "    \"city\": \"Pretoria\",\n",
    "    \"country\": \"South Africa\",\n",
    "    \"lattitude\": \"-25.688660000000002\",\n",
    "    \"longitude\": \"28.164092\",\n",
    "    \"postal_code\": \"182.0\",\n",
    "    \"province\": \"Gauteng\",\n",
    "    \"street_name\": \"Kamdebo Road\",\n",
    "    \"street_number\": \"626.0\",\n",
    "    \"suburb\": \"Florauna\"}"
   ]
  },
  {
   "cell_type": "code",
   "execution_count": 44,
   "metadata": {},
   "outputs": [],
   "source": [
    "contact_details = {\n",
    "    \"primary_contact_number\": \"0817189287\",\n",
    "    \"secondary_contact_number\": \"0798595080\",\n",
    "    \"next_of_kin_firstname\": \"Mabu\",\n",
    "    \"next_of_kin_lastname\": \"Manaileng\",\n",
    "    \"next_of_kin_primary_contact_number\": \"0798595080\"}"
   ]
  },
  {
   "cell_type": "code",
   "execution_count": 45,
   "metadata": {},
   "outputs": [
    {
     "output_type": "execute_result",
     "data": {
      "text/plain": [
       "{'Content-Type': 'application/json'}"
      ]
     },
     "metadata": {},
     "execution_count": 45
    }
   ],
   "source": [
    "headers =  {\"Content-Type\": \"application/json\"}\n",
    "headers"
   ]
  },
  {
   "cell_type": "code",
   "execution_count": 58,
   "metadata": {},
   "outputs": [
    {
     "output_type": "stream",
     "name": "stdout",
     "text": [
      "CPU times: user 2.84 ms, sys: 1.51 ms, total: 4.36 ms\nWall time: 1.83 s\n"
     ]
    },
    {
     "output_type": "execute_result",
     "data": {
      "text/plain": [
       "{'id': 32,\n",
       " 'incident_type': 'NOW',\n",
       " 'incident_status': 'WAITING',\n",
       " 'pickup_address': {'address': '626 Kamdebo Rd, Florauna, Pretoria, 0182, South Africa',\n",
       "  'city': 'Pretoria',\n",
       "  'country': 'South Africa',\n",
       "  'lattitude': '-25.688660000000002',\n",
       "  'longitude': '28.164092',\n",
       "  'postal_code': '182.0',\n",
       "  'province': 'Gauteng',\n",
       "  'street_name': 'Kamdebo Road',\n",
       "  'street_number': '626.0',\n",
       "  'suburb': 'Florauna'},\n",
       " 'pickup_time': '2020-10-19 21:25:30.932319',\n",
       " 'victim_full_names': 'Mabu Manaileng',\n",
       " 'contact_details': {'id': 1,\n",
       "  'primary_contact_number': '0817189287',\n",
       "  'secondary_contact_number': '0798595080',\n",
       "  'next_of_kin_firstname': 'Mabu',\n",
       "  'next_of_kin_lastname': 'Manaileng',\n",
       "  'next_of_kin_primary_contact_number': '0798595080',\n",
       "  'next_of_kin_secondary_contact_number': None},\n",
       " 'responders': []}"
      ]
     },
     "metadata": {},
     "execution_count": 58
    }
   ],
   "source": [
    "%%time\n",
    "payload = {\n",
    "    \"pickup_address\":pickup_address,\n",
    "    \"contact_details\":contact_details,\n",
    "    \"incident_type\": \"NOW\",\n",
    "    \"pickup_time\": str(datetime.now()),\n",
    "    \"victim_full_names\": \"Mabu Manaileng\"}\n",
    "payload = json.dumps(payload)\n",
    "\n",
    "req = requests.post(\n",
    "    \"http://localhost:8001/api/fetchme/\", data=payload, headers=headers)\n",
    "req.json()"
   ]
  },
  {
   "cell_type": "code",
   "execution_count": null,
   "metadata": {},
   "outputs": [],
   "source": []
  },
  {
   "cell_type": "code",
   "execution_count": 57,
   "metadata": {},
   "outputs": [
    {
     "output_type": "execute_result",
     "data": {
      "text/plain": [
       "(4, {'api.FetchMeIncident': 4})"
      ]
     },
     "metadata": {},
     "execution_count": 57
    }
   ],
   "source": [
    "models.FetchMeIncident.objects.all().delete()"
   ]
  },
  {
   "cell_type": "code",
   "execution_count": null,
   "metadata": {},
   "outputs": [],
   "source": [
    "models.Fetch"
   ]
  },
  {
   "cell_type": "code",
   "execution_count": null,
   "metadata": {},
   "outputs": [],
   "source": []
  },
  {
   "source": [
    "# Using Alchemy"
   ],
   "cell_type": "markdown",
   "metadata": {}
  },
  {
   "cell_type": "code",
   "execution_count": 35,
   "metadata": {},
   "outputs": [
    {
     "output_type": "execute_result",
     "data": {
      "text/plain": [
       "0"
      ]
     },
     "metadata": {},
     "execution_count": 35
    }
   ],
   "source": []
  },
  {
   "cell_type": "code",
   "execution_count": 11,
   "metadata": {},
   "outputs": [],
   "source": [
    "# scr_db = {\n",
    "#     'NAME': 'deephealthdb',\n",
    "#     'USER': 'deephealth',\n",
    "#     'PASSWORD': 'd33ph3a1th',\n",
    "#     # 'HOST': '35.228.3.60',\n",
    "#     'HOST': 'localhost',\n",
    "#     'PORT': '5432'\n",
    "# }"
   ]
  },
  {
   "cell_type": "code",
   "execution_count": 12,
   "metadata": {},
   "outputs": [],
   "source": [
    "# db = scr_db\n",
    "# engine_string = \"postgresql+psycopg2://{user}:{password}@{host}:{port}/{database}\".format(\n",
    "#     user = db['USER'],\n",
    "#     password = db['PASSWORD'],\n",
    "#     host = db['HOST'],\n",
    "#     port = db['PORT'],\n",
    "#     database = db['NAME'],\n",
    "# )\n",
    "\n",
    "# engine = sa.create_engine(engine_string)\n",
    "# engine.connect()"
   ]
  },
  {
   "source": [
    "# Load Addresses"
   ],
   "cell_type": "markdown",
   "metadata": {}
  },
  {
   "cell_type": "code",
   "execution_count": 10,
   "metadata": {},
   "outputs": [],
   "source": [
    "# address = pd.read_sql_table('api_address', engine)\n",
    "# address.head()"
   ]
  },
  {
   "cell_type": "code",
   "execution_count": 5,
   "metadata": {},
   "outputs": [
    {
     "output_type": "execute_result",
     "data": {
      "text/plain": [
       "(50, 12)"
      ]
     },
     "metadata": {},
     "execution_count": 5
    }
   ],
   "source": [
    "address = address.sample(50)\n",
    "address.shape"
   ]
  },
  {
   "cell_type": "code",
   "execution_count": 9,
   "metadata": {},
   "outputs": [],
   "source": [
    "# cols = list(address.columns)\n",
    "# cols.remove(\"id\")\n",
    "# cols.remove(\"graph_id\")\n",
    "# cols"
   ]
  },
  {
   "cell_type": "code",
   "execution_count": 8,
   "metadata": {},
   "outputs": [],
   "source": [
    "# for row in address.values:\n",
    "#     row = list(row)\n",
    "#     row = {col:val for col, val in zip(cols, row[1:-1])}\n",
    "#     addr = models.Address.objects.create(\n",
    "#         address = row['address'],\n",
    "#         city = row['city'],\n",
    "#         country = row['country'],\n",
    "#         lattitude = row['lattitude'],\n",
    "#         longitude = row['longitude'],\n",
    "#         postal_code = row['postal_code'],\n",
    "#         province = row['province'],\n",
    "#         street_name = row['street_name'],\n",
    "#         street_number = row['street_number'],\n",
    "#         suburb = row['suburb'])"
   ]
  },
  {
   "source": [
    "# Add DB Objects"
   ],
   "cell_type": "markdown",
   "metadata": {}
  },
  {
   "cell_type": "code",
   "execution_count": 6,
   "metadata": {},
   "outputs": [],
   "source": [
    "from django.contrib.auth.hashers import make_password"
   ]
  },
  {
   "cell_type": "code",
   "execution_count": 7,
   "metadata": {},
   "outputs": [],
   "source": [
    "import numpy as np"
   ]
  },
  {
   "cell_type": "code",
   "execution_count": 4,
   "metadata": {},
   "outputs": [
    {
     "output_type": "execute_result",
     "data": {
      "text/plain": [
       "<Address: Address object (35)>"
      ]
     },
     "metadata": {},
     "execution_count": 4
    }
   ],
   "source": [
    "addresses = models.Address.objects.all()\n",
    "address = addresses[np.random.randint(len(addresses))]\n",
    "address"
   ]
  },
  {
   "cell_type": "code",
   "execution_count": 34,
   "metadata": {},
   "outputs": [
    {
     "output_type": "execute_result",
     "data": {
      "text/plain": [
       "<QuerySet [<QaphelaUser: QaphelaUser object (1)>, <QaphelaUser: QaphelaUser object (2)>, <QaphelaUser: QaphelaUser object (3)>]>"
      ]
     },
     "metadata": {},
     "execution_count": 34
    }
   ],
   "source": [
    "qusers =models.QaphelaUser.objects.all()\n",
    "qusers"
   ]
  },
  {
   "cell_type": "code",
   "execution_count": 19,
   "metadata": {},
   "outputs": [],
   "source": [
    "# address = addresses[np.random.randint(len(addresses))]\n",
    "\n",
    "# user = django.contrib.auth.models.User.objects.get_or_create(\n",
    "#     username=\"0672634336\",\n",
    "#     first_name=\"Yolokazi \",\n",
    "#     last_name=\"Mbutsi\",\n",
    "#     is_active=True,\n",
    "#     email=\"y.mbutsi@gmail.com\",\n",
    "#     password=make_password(\"11235\")\n",
    "# )[0]\n",
    "# # user = django.contrib.auth.models.User.objects.get(id=2)\n",
    "\n",
    "\n",
    "# contact_numbers = models.ContactDetails.objects.get_or_create(\n",
    "#     primary_contact_number = '0672634336',\n",
    "# )\n",
    "# # social_profile = models.SocialProfiles.objects.get_or_create(\n",
    "# #     name=\"Twitter\",\n",
    "# #     profile_page=\"https://twitter.com/thisMabu\"\n",
    "# # )\n",
    "\n",
    "# quser = models.QaphelaUser.objects.get_or_create(\n",
    "#     user = user,\n",
    "#     user_type = \"STANDARD\",\n",
    "#     is_dispatch_user = True,\n",
    "#     # social_profiles = social_profile[0],\n",
    "#     contact_details = contact_numbers[0],\n",
    "#     address = address)[0]\n",
    "\n",
    "# # quser = models.QaphelaUser.objects.get(user_id=1)\n",
    "\n",
    "# quser"
   ]
  },
  {
   "cell_type": "code",
   "execution_count": 20,
   "metadata": {},
   "outputs": [],
   "source": [
    "# contact_numbers = models.ContactDetails.objects.get_or_create(\n",
    "#     primary_contact_number = '0727308412',\n",
    "#     # secondary_contact_number = '0798595080',\n",
    "#     # next_of_kin_firstname = 'Mabu',\n",
    "#     # next_of_kin_lasttname = 'Manaileng',\n",
    "#     # next_of_kin_primary_contact_number = '0817189287'\n",
    "# )[0]\n",
    "\n",
    "# abuser = models.Abuser.objects.get_or_create(\n",
    "#     full_names = \"Bonginkosi Lukhele\",\n",
    "#     # social_profiles = social_profile,\n",
    "#     contact_details = contact_numbers,\n",
    "#     workplace_details = \"Head of Mobile Development at Datawizzards as of October 2020\")[0]\n",
    "\n",
    "# case = models.Case.objects.get_or_create(\n",
    "#     title = \"Assult Charge\",\n",
    "#     report_type = \"REPORT\",\n",
    "#     occasion = \"HOME\",\n",
    "#     preview = \"I dated him for 3 years, and he got addicted to alcohol making me his punch box for all 3 years until I left the relationship.\",\n",
    "#     when = \"2019-01-01\",\n",
    "#     reporter = quser,\n",
    "#     frequency = 1,\n",
    "#     perpetrators = abuser,\n",
    "#     case_status = \"VERIFIED\",\n",
    "#     settlement_type = \"IN COURT\",\n",
    "#     police_case_number = \"2019/05/123\")[0]\n",
    "# case\n"
   ]
  },
  {
   "cell_type": "code",
   "execution_count": 21,
   "metadata": {},
   "outputs": [],
   "source": [
    "# contact_numbers = models.ContactDetails.objects.get_or_create(\n",
    "#     primary_contact_number = '0716634002',\n",
    "#     # secondary_contact_number = '0798595080',\n",
    "#     # next_of_kin_firstname = 'Mabu',\n",
    "#     # next_of_kin_lasttname = 'Manaileng',\n",
    "#     # next_of_kin_primary_contact_number = '0817189287'\n",
    "# )[0]\n",
    "\n",
    "# social_profile = models.SocialProfiles.objects.get_or_create(\n",
    "#     name=\"Twitter\",\n",
    "#     profile_page=\"https://twitter.com/LloydDoctor\"\n",
    "# )[0]\n",
    "\n",
    "# abuser = models.Abuser.objects.get_or_create(\n",
    "#     full_names = \"Doctor Lloyd Munyai\",\n",
    "#     social_profiles = social_profile,\n",
    "#     contact_details = contact_numbers,\n",
    "#     workplace_details = \"Director of Mobile at Datawizzards as of October 2020\")[0]\n",
    "\n",
    "# case = models.Case.objects.get_or_create(\n",
    "#     title = \"Groping Charge\",\n",
    "#     report_type = \"REPORT\",\n",
    "#     occasion = \"EVENT\",\n",
    "#     preview = \"Doctor groped me at a party on Feb 15, 2020. He invited me to a friend's party where he pretended that we were dating, thereby groping me in many ways without respectig my NO!\",\n",
    "#     when = \"2020-02-15\",\n",
    "#     reporter = quser,\n",
    "#     frequency = 2,\n",
    "#     perpetrators = abuser,\n",
    "#     case_status = \"VERIFIED\",\n",
    "#     settlement_type = \"OUT OF COURT\",\n",
    "#     police_case_number = \"2020/02/123\")[0]\n",
    "# case"
   ]
  },
  {
   "cell_type": "code",
   "execution_count": null,
   "metadata": {},
   "outputs": [],
   "source": []
  },
  {
   "cell_type": "code",
   "execution_count": 67,
   "metadata": {},
   "outputs": [
    {
     "output_type": "execute_result",
     "data": {
      "text/plain": [
       "'nkosi'"
      ]
     },
     "metadata": {},
     "execution_count": 67
    }
   ],
   "source": [
    "full_names = \"nkosi\"\n",
    "full_names"
   ]
  },
  {
   "cell_type": "code",
   "execution_count": 22,
   "metadata": {},
   "outputs": [
    {
     "output_type": "execute_result",
     "data": {
      "text/plain": [
       "(0, {})"
      ]
     },
     "metadata": {},
     "execution_count": 22
    }
   ],
   "source": [
    "models.Case.objects.all().delete()"
   ]
  },
  {
   "cell_type": "code",
   "execution_count": 69,
   "metadata": {},
   "outputs": [
    {
     "output_type": "execute_result",
     "data": {
      "text/plain": [
       "<QuerySet [<Case: Case object (1)>]>"
      ]
     },
     "metadata": {},
     "execution_count": 69
    }
   ],
   "source": [
    "models.Case.objects.filter(perpetrators__full_names__icontains=full_names)"
   ]
  },
  {
   "source": [
    "# Load Cases from File"
   ],
   "cell_type": "markdown",
   "metadata": {}
  },
  {
   "cell_type": "code",
   "execution_count": 23,
   "metadata": {},
   "outputs": [
    {
     "output_type": "execute_result",
     "data": {
      "text/plain": [
       "                                               Title    Type Occasion  \\\n",
       "0                                        Rape Charge  REPORT    EVENT   \n",
       "1                                        Rape Charge  REPORT    EVENT   \n",
       "2           2 counts of murder and attempted murder   REPORT    EVENT   \n",
       "3                                             Murder  REPORT    EVENT   \n",
       "4                                    Murder and rape  REPORT    EVENT   \n",
       "5    Rape and robbery with aggravating circumstances  REPORT    EVENT   \n",
       "6                                   Attempted Murder  REPORT    EVENT   \n",
       "7           Murder and defeating the ends of Justice  REPORT    EVENT   \n",
       "8  Robbery with aggravating circumstances,  attem...  REPORT    EVENT   \n",
       "9  Attempted Murder and Assault with intent to do...  REPORT    EVENT   \n",
       "\n",
       "                                             Preview      When? Case Status  \\\n",
       "0  The full background facts were comprehensively... 1998-09-20    VERIFIED   \n",
       "1  The full background facts were comprehensively... 1998-09-21    VERIFIED   \n",
       "2  Henry was divorced with children. \\nHenry and ... 1998-11-27    VERIFIED   \n",
       "3  Mr and Mrs Marx were married for 19 years when... 2008-06-25    VERIFIED   \n",
       "4  In a fit of rage and jealousy the appellant ra... 2020-06-02    VERIFIED   \n",
       "5  he allegations the appellant and his co accuse... 2020-09-15    VERIFIED   \n",
       "6  On February 2006, a young pregnant woman was s... 2006-11-05    VERIFIED   \n",
       "7  The aforesaid charges arise from events on, 19... 2018-11-21    VERIFIED   \n",
       "8  On 15 August 2011, shortly after 07:00, the Ap... 2020-06-04    VERIFIED   \n",
       "9  In count 1 the allegations were that upon or a... 2018-04-06    VERIFIED   \n",
       "\n",
       "                                     Settlement Type  Case Number  \\\n",
       "0                      IN COURT:CONSTITUTIONAL COURT  CCT 323/18    \n",
       "1                      IN COURT:CONSTITUTIONAL COURT   CCT 69/19    \n",
       "2  IN COURT:IN THE SUPREME COURT OF APPEAL OF SOU...       246/97   \n",
       "3      IN COURT:EASTERN CAPE HIGH COURT, GRAHAMSTOWN      CC35/08   \n",
       "4       IN COURT: WESTERN CAPE  HIGH COURT, CAPETOWN      A214/19   \n",
       "5  IN COURT: IN THE HIGH COURT OF SOUTH AFRICA\\nM...       A32/19   \n",
       "6  IN COURT:IN THE HIGH COURT OF SOUTH AFRICA\\n(E...    CC27/2007   \n",
       "7  IN COURT:IN THE HIGH COURT OF SOUTH AFRICA\\nGA...  CC 145/2017   \n",
       "8  IN COURT:IN THE HIGH COURT OF SOUTH AFRICA\\nGA...     A25\\2020   \n",
       "9  IN COURT:IN THE HIGH COURT OF SOUTH AFRICA\\nNO...   A 816/2016   \n",
       "\n",
       "                                        Perpatrator  \\\n",
       "0                      JABULANE ALPHEUS TSHABALALA    \n",
       "1                                   ANNANIUS NTULI    \n",
       "2                                          MR HENRY   \n",
       "3                                           MR MARX   \n",
       "4                                 JOHANNES PIETERSE   \n",
       "5                                 CLIFFORD SITHOLE    \n",
       "6  LUDWE MASHUMPA          \\n\\nDAVID ALEXANDER BEST   \n",
       "7                  KITJA JOHN MATHE                   \n",
       "8                      ADILU JANGIA                   \n",
       "9            MONTGOMERY DEFEND MONI                   \n",
       "\n",
       "                                                 URL  \n",
       "0  http://www.saflii.org/cgi-bin/disp.pl?file=za/...  \n",
       "1  http://www.saflii.org/cgi-bin/disp.pl?file=za/...  \n",
       "2  http://www.saflii.org/cgi-bin/disp.pl?file=za/...  \n",
       "3  http://www.saflii.org/cgi-bin/disp.pl?file=za/...  \n",
       "4  http://www.saflii.org/cgi-bin/disp.pl?file=za/...  \n",
       "5  http://www.saflii.org/cgi-bin/disp.pl?file=za/...  \n",
       "6  http://www.saflii.org/cgi-bin/disp.pl?file=za/...  \n",
       "7  http://www.saflii.org/cgi-bin/disp.pl?file=za/...  \n",
       "8  http://www.saflii.org/cgi-bin/disp.pl?file=za/...  \n",
       "9  http://www.saflii.org/cgi-bin/disp.pl?file=za/...  "
      ],
      "text/html": "<div>\n<style scoped>\n    .dataframe tbody tr th:only-of-type {\n        vertical-align: middle;\n    }\n\n    .dataframe tbody tr th {\n        vertical-align: top;\n    }\n\n    .dataframe thead th {\n        text-align: right;\n    }\n</style>\n<table border=\"1\" class=\"dataframe\">\n  <thead>\n    <tr style=\"text-align: right;\">\n      <th></th>\n      <th>Title</th>\n      <th>Type</th>\n      <th>Occasion</th>\n      <th>Preview</th>\n      <th>When?</th>\n      <th>Case Status</th>\n      <th>Settlement Type</th>\n      <th>Case Number</th>\n      <th>Perpatrator</th>\n      <th>URL</th>\n    </tr>\n  </thead>\n  <tbody>\n    <tr>\n      <th>0</th>\n      <td>Rape Charge</td>\n      <td>REPORT</td>\n      <td>EVENT</td>\n      <td>The full background facts were comprehensively...</td>\n      <td>1998-09-20</td>\n      <td>VERIFIED</td>\n      <td>IN COURT:CONSTITUTIONAL COURT</td>\n      <td>CCT 323/18</td>\n      <td>JABULANE ALPHEUS TSHABALALA</td>\n      <td>http://www.saflii.org/cgi-bin/disp.pl?file=za/...</td>\n    </tr>\n    <tr>\n      <th>1</th>\n      <td>Rape Charge</td>\n      <td>REPORT</td>\n      <td>EVENT</td>\n      <td>The full background facts were comprehensively...</td>\n      <td>1998-09-21</td>\n      <td>VERIFIED</td>\n      <td>IN COURT:CONSTITUTIONAL COURT</td>\n      <td>CCT 69/19</td>\n      <td>ANNANIUS NTULI</td>\n      <td>http://www.saflii.org/cgi-bin/disp.pl?file=za/...</td>\n    </tr>\n    <tr>\n      <th>2</th>\n      <td>2 counts of murder and attempted murder</td>\n      <td>REPORT</td>\n      <td>EVENT</td>\n      <td>Henry was divorced with children. \\nHenry and ...</td>\n      <td>1998-11-27</td>\n      <td>VERIFIED</td>\n      <td>IN COURT:IN THE SUPREME COURT OF APPEAL OF SOU...</td>\n      <td>246/97</td>\n      <td>MR HENRY</td>\n      <td>http://www.saflii.org/cgi-bin/disp.pl?file=za/...</td>\n    </tr>\n    <tr>\n      <th>3</th>\n      <td>Murder</td>\n      <td>REPORT</td>\n      <td>EVENT</td>\n      <td>Mr and Mrs Marx were married for 19 years when...</td>\n      <td>2008-06-25</td>\n      <td>VERIFIED</td>\n      <td>IN COURT:EASTERN CAPE HIGH COURT, GRAHAMSTOWN</td>\n      <td>CC35/08</td>\n      <td>MR MARX</td>\n      <td>http://www.saflii.org/cgi-bin/disp.pl?file=za/...</td>\n    </tr>\n    <tr>\n      <th>4</th>\n      <td>Murder and rape</td>\n      <td>REPORT</td>\n      <td>EVENT</td>\n      <td>In a fit of rage and jealousy the appellant ra...</td>\n      <td>2020-06-02</td>\n      <td>VERIFIED</td>\n      <td>IN COURT: WESTERN CAPE  HIGH COURT, CAPETOWN</td>\n      <td>A214/19</td>\n      <td>JOHANNES PIETERSE</td>\n      <td>http://www.saflii.org/cgi-bin/disp.pl?file=za/...</td>\n    </tr>\n    <tr>\n      <th>5</th>\n      <td>Rape and robbery with aggravating circumstances</td>\n      <td>REPORT</td>\n      <td>EVENT</td>\n      <td>he allegations the appellant and his co accuse...</td>\n      <td>2020-09-15</td>\n      <td>VERIFIED</td>\n      <td>IN COURT: IN THE HIGH COURT OF SOUTH AFRICA\\nM...</td>\n      <td>A32/19</td>\n      <td>CLIFFORD SITHOLE</td>\n      <td>http://www.saflii.org/cgi-bin/disp.pl?file=za/...</td>\n    </tr>\n    <tr>\n      <th>6</th>\n      <td>Attempted Murder</td>\n      <td>REPORT</td>\n      <td>EVENT</td>\n      <td>On February 2006, a young pregnant woman was s...</td>\n      <td>2006-11-05</td>\n      <td>VERIFIED</td>\n      <td>IN COURT:IN THE HIGH COURT OF SOUTH AFRICA\\n(E...</td>\n      <td>CC27/2007</td>\n      <td>LUDWE MASHUMPA          \\n\\nDAVID ALEXANDER BEST</td>\n      <td>http://www.saflii.org/cgi-bin/disp.pl?file=za/...</td>\n    </tr>\n    <tr>\n      <th>7</th>\n      <td>Murder and defeating the ends of Justice</td>\n      <td>REPORT</td>\n      <td>EVENT</td>\n      <td>The aforesaid charges arise from events on, 19...</td>\n      <td>2018-11-21</td>\n      <td>VERIFIED</td>\n      <td>IN COURT:IN THE HIGH COURT OF SOUTH AFRICA\\nGA...</td>\n      <td>CC 145/2017</td>\n      <td>KITJA JOHN MATHE</td>\n      <td>http://www.saflii.org/cgi-bin/disp.pl?file=za/...</td>\n    </tr>\n    <tr>\n      <th>8</th>\n      <td>Robbery with aggravating circumstances,  attem...</td>\n      <td>REPORT</td>\n      <td>EVENT</td>\n      <td>On 15 August 2011, shortly after 07:00, the Ap...</td>\n      <td>2020-06-04</td>\n      <td>VERIFIED</td>\n      <td>IN COURT:IN THE HIGH COURT OF SOUTH AFRICA\\nGA...</td>\n      <td>A25\\2020</td>\n      <td>ADILU JANGIA</td>\n      <td>http://www.saflii.org/cgi-bin/disp.pl?file=za/...</td>\n    </tr>\n    <tr>\n      <th>9</th>\n      <td>Attempted Murder and Assault with intent to do...</td>\n      <td>REPORT</td>\n      <td>EVENT</td>\n      <td>In count 1 the allegations were that upon or a...</td>\n      <td>2018-04-06</td>\n      <td>VERIFIED</td>\n      <td>IN COURT:IN THE HIGH COURT OF SOUTH AFRICA\\nNO...</td>\n      <td>A 816/2016</td>\n      <td>MONTGOMERY DEFEND MONI</td>\n      <td>http://www.saflii.org/cgi-bin/disp.pl?file=za/...</td>\n    </tr>\n  </tbody>\n</table>\n</div>"
     },
     "metadata": {},
     "execution_count": 23
    }
   ],
   "source": [
    "cases_df = pd.read_excel(\"~/Google Drive/dev/Safe@Home/Cases/Book1.xlsx\")\n",
    "cases_df"
   ]
  },
  {
   "cell_type": "code",
   "execution_count": 32,
   "metadata": {},
   "outputs": [
    {
     "output_type": "execute_result",
     "data": {
      "text/plain": [
       "<User: 0723964084>"
      ]
     },
     "metadata": {},
     "execution_count": 32
    }
   ],
   "source": []
  },
  {
   "cell_type": "code",
   "execution_count": 35,
   "metadata": {},
   "outputs": [
    {
     "output_type": "stream",
     "name": "stdout",
     "text": [
      "Case object (1)\nCase object (2)\nCase object (3)\nCase object (4)\nCase object (5)\nCase object (6)\nCase object (7)\nCase object (8)\nCase object (9)\nCase object (10)\n"
     ]
    }
   ],
   "source": [
    "for case in cases_df.values:\n",
    "    title = case[0]\n",
    "    report_type = case[1]\n",
    "    ocassion = case[2]\n",
    "    preview = case[3]\n",
    "    when = case[4]\n",
    "    status = case[5]\n",
    "    settlement = case[6]\n",
    "    case_num = case[7]\n",
    "    url = case[9]\n",
    "\n",
    "    abuser = case[8].title()\n",
    "    abuser = models.Abuser.objects.get_or_create(\n",
    "        full_names = abuser)[0]\n",
    "    \n",
    "    cs = models.Case.objects.update_or_create(\n",
    "        title = title,\n",
    "        report_type = report_type,\n",
    "        occasion = ocassion,\n",
    "        preview = preview,\n",
    "        when = when,\n",
    "        reporter = qusers[np.random.randint(len(qusers))],\n",
    "        perpetrators = abuser,\n",
    "        frequency = 1,\n",
    "        case_status = status,\n",
    "        settlement_type = settlement,\n",
    "        police_case_number = case_num)[0]\n",
    "    # cs.perpetrators.add(abuser)\n",
    "    print(cs)"
   ]
  },
  {
   "cell_type": "code",
   "execution_count": 37,
   "metadata": {},
   "outputs": [
    {
     "output_type": "stream",
     "name": "stdout",
     "text": [
      "QaphelaUser object (1)\nQaphelaUser object (2)\nQaphelaUser object (3)\n"
     ]
    }
   ],
   "source": [
    "for user in models.QaphelaUser.objects.filter(is_dispatch_user=True):\n",
    "    print(user)"
   ]
  },
  {
   "cell_type": "code",
   "execution_count": 39,
   "metadata": {},
   "outputs": [
    {
     "output_type": "execute_result",
     "data": {
      "text/plain": [
       "'Yolokazi  Mbutsi'"
      ]
     },
     "metadata": {},
     "execution_count": 39
    }
   ],
   "source": [
    "f\"{user.user.first_name}\""
   ]
  },
  {
   "source": [
    "# FetchMe"
   ],
   "cell_type": "markdown",
   "metadata": {}
  },
  {
   "cell_type": "code",
   "execution_count": 6,
   "metadata": {},
   "outputs": [
    {
     "output_type": "execute_result",
     "data": {
      "text/plain": [
       "<Address: Address object (25)>"
      ]
     },
     "metadata": {},
     "execution_count": 6
    }
   ],
   "source": [
    "address = addresses[np.random.randint(len(addresses))]\n",
    "address"
   ]
  },
  {
   "cell_type": "code",
   "execution_count": 7,
   "metadata": {},
   "outputs": [],
   "source": [
    "from datetime import datetime, timedelta"
   ]
  },
  {
   "cell_type": "code",
   "execution_count": 8,
   "metadata": {},
   "outputs": [
    {
     "output_type": "execute_result",
     "data": {
      "text/plain": [
       "<QuerySet [{'id': 1, 'primary_contact_number': '0817189287', 'secondary_contact_number': '0798595080', 'next_of_kin_firstname': 'Mabu', 'next_of_kin_lastname': 'Manaileng', 'next_of_kin_primary_contact_number': '0798595080', 'next_of_kin_secondary_contact_number': None}, {'id': 2, 'primary_contact_number': '0727308412', 'secondary_contact_number': None, 'next_of_kin_firstname': None, 'next_of_kin_lastname': None, 'next_of_kin_primary_contact_number': None, 'next_of_kin_secondary_contact_number': None}, {'id': 3, 'primary_contact_number': '0716634002', 'secondary_contact_number': None, 'next_of_kin_firstname': None, 'next_of_kin_lastname': None, 'next_of_kin_primary_contact_number': None, 'next_of_kin_secondary_contact_number': None}]>"
      ]
     },
     "metadata": {},
     "execution_count": 8
    }
   ],
   "source": [
    "models.ContactDetails.objects.all().values()"
   ]
  },
  {
   "cell_type": "code",
   "execution_count": 40,
   "metadata": {},
   "outputs": [
    {
     "output_type": "execute_result",
     "data": {
      "text/plain": [
       "<QuerySet []>"
      ]
     },
     "metadata": {},
     "execution_count": 40
    }
   ],
   "source": [
    "models.FetchMeIncident.objects.all() #.delete()"
   ]
  },
  {
   "cell_type": "code",
   "execution_count": 10,
   "metadata": {},
   "outputs": [
    {
     "output_type": "stream",
     "name": "stdout",
     "text": [
      "Singal Recieved\nVictim: Mabu Manaileng \nLocation: 626 Kamdebo Rd, Florauna, Pretoria, 0182, South Africa\n"
     ]
    },
    {
     "output_type": "execute_result",
     "data": {
      "text/plain": [
       "<FetchMeIncident: FetchMeIncident object (9)>"
      ]
     },
     "metadata": {},
     "execution_count": 10
    }
   ],
   "source": [
    "inc = models.FetchMeIncident.objects.create(\n",
    "    incident_type=\"NOW\",\n",
    "    pickup_address=address,\n",
    "    pickup_time=datetime.now(),\n",
    "    victim_full_names=\"Mabu Manaileng\",\n",
    "    contact_details=models.ContactDetails.objects.get(id=1)\n",
    ")\n",
    "inc"
   ]
  },
  {
   "cell_type": "code",
   "execution_count": 8,
   "metadata": {},
   "outputs": [
    {
     "output_type": "execute_result",
     "data": {
      "text/plain": [
       "7"
      ]
     },
     "metadata": {},
     "execution_count": 8
    }
   ],
   "source": [
    "inc.id"
   ]
  },
  {
   "cell_type": "code",
   "execution_count": 11,
   "metadata": {},
   "outputs": [
    {
     "output_type": "execute_result",
     "data": {
      "text/plain": [
       "<FetchMeIncident: FetchMeIncident object (7)>"
      ]
     },
     "metadata": {},
     "execution_count": 11
    }
   ],
   "source": [
    "incident = models.FetchMeIncident.objects.get(id=inc.id)\n",
    "incident"
   ]
  },
  {
   "cell_type": "code",
   "execution_count": 12,
   "metadata": {},
   "outputs": [
    {
     "output_type": "execute_result",
     "data": {
      "text/plain": [
       "'Mabu Manaileng'"
      ]
     },
     "metadata": {},
     "execution_count": 12
    }
   ],
   "source": [
    "incident.victim_full_names"
   ]
  },
  {
   "cell_type": "code",
   "execution_count": 15,
   "metadata": {},
   "outputs": [
    {
     "output_type": "execute_result",
     "data": {
      "text/plain": [
       "'-26.2472189'"
      ]
     },
     "metadata": {},
     "execution_count": 15
    }
   ],
   "source": [
    "incident.pickup_address.lattitude"
   ]
  },
  {
   "cell_type": "code",
   "execution_count": 30,
   "metadata": {},
   "outputs": [
    {
     "output_type": "execute_result",
     "data": {
      "text/plain": [
       "<QuerySet [{'id': 1, 'incident_type': 'NOW', 'incident_status': 'WAITING', 'pickup_address_id': 17, 'pickup_time': datetime.datetime(2020, 10, 18, 15, 4, 5, 294305, tzinfo=<UTC>), 'victim_full_names': 'Mabu Manaileng', 'contact_details_id': 1}]>"
      ]
     },
     "metadata": {},
     "execution_count": 30
    }
   ],
   "source": [
    "models.FetchMeIncident.objects.all().values()"
   ]
  },
  {
   "cell_type": "code",
   "execution_count": 32,
   "metadata": {},
   "outputs": [],
   "source": [
    "inc[0].save()"
   ]
  },
  {
   "cell_type": "code",
   "execution_count": null,
   "metadata": {},
   "outputs": [],
   "source": []
  }
 ]
}