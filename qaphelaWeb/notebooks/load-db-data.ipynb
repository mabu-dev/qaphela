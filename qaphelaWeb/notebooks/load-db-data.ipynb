{
 "metadata": {
  "language_info": {
   "codemirror_mode": {
    "name": "ipython",
    "version": 3
   },
   "file_extension": ".py",
   "mimetype": "text/x-python",
   "name": "python",
   "nbconvert_exporter": "python",
   "pygments_lexer": "ipython3",
   "version": "3.8.5-final"
  },
  "orig_nbformat": 2,
  "kernelspec": {
   "name": "Python 3.8.5 64-bit",
   "display_name": "Python 3.8.5 64-bit",
   "metadata": {
    "interpreter": {
     "hash": "bb89c8851fcf48e014594263135625c9ef445bf49a1bbad1cc739959a5da09cf"
    }
   }
  }
 },
 "nbformat": 4,
 "nbformat_minor": 2,
 "cells": [
  {
   "cell_type": "code",
   "execution_count": 42,
   "metadata": {},
   "outputs": [],
   "source": [
    "import pandas as pd\n",
    "import numpy as np\n",
    "from datetime import timedelta, datetime\n",
    "import sys,json\n",
    "import os\n",
    "import sqlalchemy as sa\n",
    "sys.path.append(\"../\")\n",
    "import django\n",
    "os.environ.setdefault('DJANGO_SETTINGS_MODULE', 'qaphelaWeb.settings')\n",
    "os.environ[\"DJANGO_ALLOW_ASYNC_UNSAFE\"] = \"true\"\n",
    "django.setup()\n",
    "from api import models\n",
    "from django.db.models import Count, Avg, Q, Prefetch, F, Subquery\n",
    "\n",
    "from IPython.display import clear_output"
   ]
  },
  {
   "cell_type": "code",
   "execution_count": null,
   "metadata": {},
   "outputs": [],
   "source": []
  },
  {
   "source": [
    "# API via REST"
   ],
   "cell_type": "markdown",
   "metadata": {}
  },
  {
   "cell_type": "code",
   "execution_count": 1,
   "metadata": {},
   "outputs": [],
   "source": [
    "import requests"
   ]
  },
  {
   "cell_type": "code",
   "execution_count": 2,
   "metadata": {},
   "outputs": [],
   "source": [
    "pickup_address = {\n",
    "    \"address\": \"626 Kamdebo Rd, Florauna, Pretoria, 0182, South Africa\",\n",
    "    \"city\": \"Pretoria\",\n",
    "    \"country\": \"South Africa\",\n",
    "    \"lattitude\": \"-25.688660000000002\",\n",
    "    \"longitude\": \"28.164092\",\n",
    "    \"postal_code\": \"182.0\",\n",
    "    \"province\": \"Gauteng\",\n",
    "    \"street_name\": \"Kamdebo Road\",\n",
    "    \"street_number\": \"626.0\",\n",
    "    \"suburb\": \"Florauna\"}"
   ]
  },
  {
   "cell_type": "code",
   "execution_count": 8,
   "metadata": {},
   "outputs": [],
   "source": [
    "contact_details = {\n",
    "    \"primary_contact_number\": \"0817189287\",\n",
    "    \"secondary_contact_number\": \"0798595080\",\n",
    "    \"next_of_kin_firstname\": \"Mabu\",\n",
    "    \"next_of_kin_lastname\": \"Manaileng\",\n",
    "    \"next_of_kin_primary_contact_number\": \"0798595080\"}"
   ]
  },
  {
   "cell_type": "code",
   "execution_count": 16,
   "metadata": {},
   "outputs": [],
   "source": [
    "from datetime import datetime\n",
    "import json"
   ]
  },
  {
   "cell_type": "code",
   "execution_count": null,
   "metadata": {},
   "outputs": [],
   "source": []
  },
  {
   "cell_type": "code",
   "execution_count": 23,
   "metadata": {},
   "outputs": [
    {
     "output_type": "execute_result",
     "data": {
      "text/plain": [
       "{'Content-Type': 'application/json'}"
      ]
     },
     "metadata": {},
     "execution_count": 23
    }
   ],
   "source": [
    "headers =  {\"Content-Type\": \"application/json\"}\n",
    "headers"
   ]
  },
  {
   "cell_type": "code",
   "execution_count": 50,
   "metadata": {},
   "outputs": [
    {
     "output_type": "stream",
     "name": "stdout",
     "text": [
      "CPU times: user 2.8 ms, sys: 1.36 ms, total: 4.16 ms\nWall time: 20.4 ms\n"
     ]
    },
    {
     "output_type": "execute_result",
     "data": {
      "text/plain": [
       "{'id': 21,\n",
       " 'incident_type': 'NOW',\n",
       " 'incident_status': 'WAITING',\n",
       " 'pickup_address': {'address': '626 Kamdebo Rd, Florauna, Pretoria, 0182, South Africa',\n",
       "  'city': 'Pretoria',\n",
       "  'country': 'South Africa',\n",
       "  'lattitude': '-25.688660000000002',\n",
       "  'longitude': '28.164092',\n",
       "  'postal_code': '182.0',\n",
       "  'province': 'Gauteng',\n",
       "  'street_name': 'Kamdebo Road',\n",
       "  'street_number': '626.0',\n",
       "  'suburb': 'Florauna'},\n",
       " 'pickup_time': '2020-10-19 18:57:06.777933',\n",
       " 'victim_full_names': 'Mabu Manaileng',\n",
       " 'contact_details': {'id': 1,\n",
       "  'primary_contact_number': '0817189287',\n",
       "  'secondary_contact_number': '0798595080',\n",
       "  'next_of_kin_firstname': 'Mabu',\n",
       "  'next_of_kin_lastname': 'Manaileng',\n",
       "  'next_of_kin_primary_contact_number': '0798595080',\n",
       "  'next_of_kin_secondary_contact_number': None},\n",
       " 'responders': []}"
      ]
     },
     "metadata": {},
     "execution_count": 50
    }
   ],
   "source": [
    "%%time\n",
    "payload = {\n",
    "    \"pickup_address\":pickup_address,\n",
    "    \"contact_details\":contact_details,\n",
    "    \"incident_type\": \"NOW\",\n",
    "    \"pickup_time\": str(datetime.now()),\n",
    "    \"victim_full_names\": \"Mabu Manaileng\"}\n",
    "payload = json.dumps(payload)\n",
    "\n",
    "req = requests.post(\n",
    "    \"http://localhost:8001/api/fetchme/\", data=payload, headers=headers)\n",
    "req.json()"
   ]
  },
  {
   "cell_type": "code",
   "execution_count": null,
   "metadata": {},
   "outputs": [],
   "source": []
  },
  {
   "cell_type": "code",
   "execution_count": 49,
   "metadata": {},
   "outputs": [
    {
     "output_type": "execute_result",
     "data": {
      "text/plain": [
       "(5, {'api.FetchMeIncident': 5})"
      ]
     },
     "metadata": {},
     "execution_count": 49
    }
   ],
   "source": [
    "models.FetchMeIncident.objects.all().delete()"
   ]
  },
  {
   "cell_type": "code",
   "execution_count": null,
   "metadata": {},
   "outputs": [],
   "source": [
    "models.Fetch"
   ]
  },
  {
   "cell_type": "code",
   "execution_count": null,
   "metadata": {},
   "outputs": [],
   "source": []
  },
  {
   "source": [
    "# Using Alchemy"
   ],
   "cell_type": "markdown",
   "metadata": {}
  },
  {
   "cell_type": "code",
   "execution_count": 35,
   "metadata": {},
   "outputs": [
    {
     "output_type": "execute_result",
     "data": {
      "text/plain": [
       "0"
      ]
     },
     "metadata": {},
     "execution_count": 35
    }
   ],
   "source": []
  },
  {
   "cell_type": "code",
   "execution_count": 11,
   "metadata": {},
   "outputs": [],
   "source": [
    "# scr_db = {\n",
    "#     'NAME': 'deephealthdb',\n",
    "#     'USER': 'deephealth',\n",
    "#     'PASSWORD': 'd33ph3a1th',\n",
    "#     # 'HOST': '35.228.3.60',\n",
    "#     'HOST': 'localhost',\n",
    "#     'PORT': '5432'\n",
    "# }"
   ]
  },
  {
   "cell_type": "code",
   "execution_count": 12,
   "metadata": {},
   "outputs": [],
   "source": [
    "# db = scr_db\n",
    "# engine_string = \"postgresql+psycopg2://{user}:{password}@{host}:{port}/{database}\".format(\n",
    "#     user = db['USER'],\n",
    "#     password = db['PASSWORD'],\n",
    "#     host = db['HOST'],\n",
    "#     port = db['PORT'],\n",
    "#     database = db['NAME'],\n",
    "# )\n",
    "\n",
    "# engine = sa.create_engine(engine_string)\n",
    "# engine.connect()"
   ]
  },
  {
   "source": [
    "# Load Addresses"
   ],
   "cell_type": "markdown",
   "metadata": {}
  },
  {
   "cell_type": "code",
   "execution_count": 10,
   "metadata": {},
   "outputs": [],
   "source": [
    "# address = pd.read_sql_table('api_address', engine)\n",
    "# address.head()"
   ]
  },
  {
   "cell_type": "code",
   "execution_count": 5,
   "metadata": {},
   "outputs": [
    {
     "output_type": "execute_result",
     "data": {
      "text/plain": [
       "(50, 12)"
      ]
     },
     "metadata": {},
     "execution_count": 5
    }
   ],
   "source": [
    "address = address.sample(50)\n",
    "address.shape"
   ]
  },
  {
   "cell_type": "code",
   "execution_count": 9,
   "metadata": {},
   "outputs": [],
   "source": [
    "# cols = list(address.columns)\n",
    "# cols.remove(\"id\")\n",
    "# cols.remove(\"graph_id\")\n",
    "# cols"
   ]
  },
  {
   "cell_type": "code",
   "execution_count": 8,
   "metadata": {},
   "outputs": [],
   "source": [
    "# for row in address.values:\n",
    "#     row = list(row)\n",
    "#     row = {col:val for col, val in zip(cols, row[1:-1])}\n",
    "#     addr = models.Address.objects.create(\n",
    "#         address = row['address'],\n",
    "#         city = row['city'],\n",
    "#         country = row['country'],\n",
    "#         lattitude = row['lattitude'],\n",
    "#         longitude = row['longitude'],\n",
    "#         postal_code = row['postal_code'],\n",
    "#         province = row['province'],\n",
    "#         street_name = row['street_name'],\n",
    "#         street_number = row['street_number'],\n",
    "#         suburb = row['suburb'])"
   ]
  },
  {
   "source": [
    "# Add DB Objects"
   ],
   "cell_type": "markdown",
   "metadata": {}
  },
  {
   "cell_type": "code",
   "execution_count": 16,
   "metadata": {},
   "outputs": [],
   "source": [
    "from django.contrib.auth.hashers import make_password"
   ]
  },
  {
   "cell_type": "code",
   "execution_count": 17,
   "metadata": {},
   "outputs": [
    {
     "output_type": "execute_result",
     "data": {
      "text/plain": [
       "<User: 0817189287>"
      ]
     },
     "metadata": {},
     "execution_count": 17
    }
   ],
   "source": [
    "user = django.contrib.auth.models.User.objects.create(\n",
    "    username=\"0817189287\",\n",
    "    first_name=\"Mabu\",\n",
    "    last_name=\"Manaileng\",\n",
    "    is_active=True,\n",
    "    email=\"ManailengMJ@gmail.com\",\n",
    "    password=make_password(\"11235\")\n",
    ")\n",
    "# user = django.contrib.auth.models.User.objects.get(id=1)\n",
    "user"
   ]
  },
  {
   "cell_type": "code",
   "execution_count": 4,
   "metadata": {},
   "outputs": [],
   "source": [
    "import numpy as np"
   ]
  },
  {
   "cell_type": "code",
   "execution_count": 5,
   "metadata": {},
   "outputs": [
    {
     "output_type": "execute_result",
     "data": {
      "text/plain": [
       "<Address: Address object (46)>"
      ]
     },
     "metadata": {},
     "execution_count": 5
    }
   ],
   "source": [
    "addresses = models.Address.objects.all()\n",
    "address = addresses[np.random.randint(len(addresses))]\n",
    "address"
   ]
  },
  {
   "cell_type": "code",
   "execution_count": 20,
   "metadata": {},
   "outputs": [
    {
     "output_type": "execute_result",
     "data": {
      "text/plain": [
       "<QaphelaUser: QaphelaUser object (1)>"
      ]
     },
     "metadata": {},
     "execution_count": 20
    }
   ],
   "source": [
    "contact_numbers = models.ContactDetails.objects.get_or_create(\n",
    "    primary_contact_number = '0817189287',\n",
    "    secondary_contact_number = '0798595080',\n",
    "    next_of_kin_firstname = 'Mabu',\n",
    "    next_of_kin_lastname = 'Manaileng',\n",
    "    next_of_kin_primary_contact_number = '0798595080'\n",
    ")\n",
    "social_profile = models.SocialProfiles.objects.get_or_create(\n",
    "    name=\"Twitter\",\n",
    "    profile_page=\"https://twitter.com/thisMabu\"\n",
    ")\n",
    "\n",
    "quser = models.QaphelaUser.objects.get_or_create(\n",
    "    user = user,\n",
    "    user_type = \"STANDARD\",\n",
    "    is_dispatch_user = True,\n",
    "    social_profiles = social_profile[0],\n",
    "    contact_details = contact_numbers[0],\n",
    "    address = address)[0]\n",
    "\n",
    "# quser = models.QaphelaUser.objects.get(user_id=1)\n",
    "\n",
    "quser"
   ]
  },
  {
   "cell_type": "code",
   "execution_count": 21,
   "metadata": {},
   "outputs": [
    {
     "output_type": "execute_result",
     "data": {
      "text/plain": [
       "<Case: Case object (1)>"
      ]
     },
     "metadata": {},
     "execution_count": 21
    }
   ],
   "source": [
    "contact_numbers = models.ContactDetails.objects.get_or_create(\n",
    "    primary_contact_number = '0727308412',\n",
    "    # secondary_contact_number = '0798595080',\n",
    "    # next_of_kin_firstname = 'Mabu',\n",
    "    # next_of_kin_lasttname = 'Manaileng',\n",
    "    # next_of_kin_primary_contact_number = '0817189287'\n",
    ")[0]\n",
    "\n",
    "abuser = models.Abuser.objects.get_or_create(\n",
    "    full_names = \"Bonginkosi Lukhele\",\n",
    "    # social_profiles = social_profile,\n",
    "    contact_details = contact_numbers,\n",
    "    workplace_details = \"Head of Mobile Development at Datawizzards as of October 2020\")[0]\n",
    "\n",
    "case = models.Case.objects.get_or_create(\n",
    "    title = \"Assult Charge\",\n",
    "    report_type = \"REPORT\",\n",
    "    occasion = \"HOME\",\n",
    "    preview = \"I dated him for 3 years, and he got addicted to alcohol making me his punch box for all 3 years until I left the relationship.\",\n",
    "    when = \"2019-01-01\",\n",
    "    reporter = quser,\n",
    "    frequency = 1,\n",
    "    perpetrators = abuser,\n",
    "    case_status = \"VERIFIED\",\n",
    "    settlement_type = \"IN COURT\",\n",
    "    police_case_number = \"2019/05/123\")[0]\n",
    "case\n"
   ]
  },
  {
   "cell_type": "code",
   "execution_count": 22,
   "metadata": {},
   "outputs": [
    {
     "output_type": "execute_result",
     "data": {
      "text/plain": [
       "<Case: Case object (2)>"
      ]
     },
     "metadata": {},
     "execution_count": 22
    }
   ],
   "source": [
    "contact_numbers = models.ContactDetails.objects.get_or_create(\n",
    "    primary_contact_number = '0716634002',\n",
    "    # secondary_contact_number = '0798595080',\n",
    "    # next_of_kin_firstname = 'Mabu',\n",
    "    # next_of_kin_lasttname = 'Manaileng',\n",
    "    # next_of_kin_primary_contact_number = '0817189287'\n",
    ")[0]\n",
    "\n",
    "social_profile = models.SocialProfiles.objects.get_or_create(\n",
    "    name=\"Twitter\",\n",
    "    profile_page=\"https://twitter.com/LloydDoctor\"\n",
    ")[0]\n",
    "\n",
    "abuser = models.Abuser.objects.get_or_create(\n",
    "    full_names = \"Doctor Lloyd Munyai\",\n",
    "    social_profiles = social_profile,\n",
    "    contact_details = contact_numbers,\n",
    "    workplace_details = \"Director of Mobile at Datawizzards as of October 2020\")[0]\n",
    "\n",
    "case = models.Case.objects.get_or_create(\n",
    "    title = \"Groping Charge\",\n",
    "    report_type = \"REPORT\",\n",
    "    occasion = \"EVENT\",\n",
    "    preview = \"Doctor groped me at a party on Feb 15, 2020. He invited me to a friend's party where he pretended that we were dating, thereby groping me in many ways without respectig my NO!\",\n",
    "    when = \"2020-02-15\",\n",
    "    reporter = quser,\n",
    "    frequency = 2,\n",
    "    perpetrators = abuser,\n",
    "    case_status = \"VERIFIED\",\n",
    "    settlement_type = \"OUT OF COURT\",\n",
    "    police_case_number = \"2020/02/123\")[0]\n",
    "case"
   ]
  },
  {
   "cell_type": "code",
   "execution_count": null,
   "metadata": {},
   "outputs": [],
   "source": []
  },
  {
   "cell_type": "code",
   "execution_count": 67,
   "metadata": {},
   "outputs": [
    {
     "output_type": "execute_result",
     "data": {
      "text/plain": [
       "'nkosi'"
      ]
     },
     "metadata": {},
     "execution_count": 67
    }
   ],
   "source": [
    "full_names = \"nkosi\"\n",
    "full_names"
   ]
  },
  {
   "cell_type": "code",
   "execution_count": 68,
   "metadata": {},
   "outputs": [
    {
     "output_type": "execute_result",
     "data": {
      "text/plain": [
       "<QuerySet [<Case: Case object (1)>]>"
      ]
     },
     "metadata": {},
     "execution_count": 68
    }
   ],
   "source": [
    "models.Case.objects.all()"
   ]
  },
  {
   "cell_type": "code",
   "execution_count": 69,
   "metadata": {},
   "outputs": [
    {
     "output_type": "execute_result",
     "data": {
      "text/plain": [
       "<QuerySet [<Case: Case object (1)>]>"
      ]
     },
     "metadata": {},
     "execution_count": 69
    }
   ],
   "source": [
    "models.Case.objects.filter(perpetrators__full_names__icontains=full_names)"
   ]
  },
  {
   "source": [
    "# Load Cases from File"
   ],
   "cell_type": "markdown",
   "metadata": {}
  },
  {
   "cell_type": "code",
   "execution_count": 23,
   "metadata": {},
   "outputs": [
    {
     "output_type": "execute_result",
     "data": {
      "text/plain": [
       "         Title    Type Occasion  \\\n",
       "0  Rape Charge  REPORT    EVENT   \n",
       "1  Rape Charge  REPORT    EVENT   \n",
       "\n",
       "                                             Preview      When? Case Status  \\\n",
       "0  The full background facts were comprehensively... 1998-09-20    VERIFIED   \n",
       "1  The full background facts were comprehensively... 1998-09-21    VERIFIED   \n",
       "\n",
       "  Settlement Type  Case Number                   Perpatrator  URL  \n",
       "0        IN COURT  CCT 323/18   JABULANE ALPHEUS TSHABALALA   NaN  \n",
       "1        IN COURT   CCT 69/19                ANNANIUS NTULI   NaN  "
      ],
      "text/html": "<div>\n<style scoped>\n    .dataframe tbody tr th:only-of-type {\n        vertical-align: middle;\n    }\n\n    .dataframe tbody tr th {\n        vertical-align: top;\n    }\n\n    .dataframe thead th {\n        text-align: right;\n    }\n</style>\n<table border=\"1\" class=\"dataframe\">\n  <thead>\n    <tr style=\"text-align: right;\">\n      <th></th>\n      <th>Title</th>\n      <th>Type</th>\n      <th>Occasion</th>\n      <th>Preview</th>\n      <th>When?</th>\n      <th>Case Status</th>\n      <th>Settlement Type</th>\n      <th>Case Number</th>\n      <th>Perpatrator</th>\n      <th>URL</th>\n    </tr>\n  </thead>\n  <tbody>\n    <tr>\n      <th>0</th>\n      <td>Rape Charge</td>\n      <td>REPORT</td>\n      <td>EVENT</td>\n      <td>The full background facts were comprehensively...</td>\n      <td>1998-09-20</td>\n      <td>VERIFIED</td>\n      <td>IN COURT</td>\n      <td>CCT 323/18</td>\n      <td>JABULANE ALPHEUS TSHABALALA</td>\n      <td>NaN</td>\n    </tr>\n    <tr>\n      <th>1</th>\n      <td>Rape Charge</td>\n      <td>REPORT</td>\n      <td>EVENT</td>\n      <td>The full background facts were comprehensively...</td>\n      <td>1998-09-21</td>\n      <td>VERIFIED</td>\n      <td>IN COURT</td>\n      <td>CCT 69/19</td>\n      <td>ANNANIUS NTULI</td>\n      <td>NaN</td>\n    </tr>\n  </tbody>\n</table>\n</div>"
     },
     "metadata": {},
     "execution_count": 23
    }
   ],
   "source": [
    "cases_df = pd.read_excel(\"~/Google Drive/dev/Safe@Home/Cases/Book1.xlsx\")\n",
    "cases_df"
   ]
  },
  {
   "cell_type": "code",
   "execution_count": 24,
   "metadata": {},
   "outputs": [
    {
     "output_type": "stream",
     "name": "stdout",
     "text": [
      "Case object (3)\nCase object (4)\n"
     ]
    }
   ],
   "source": [
    "for case in cases_df.values:\n",
    "    title = case[0]\n",
    "    report_type = case[1]\n",
    "    ocassion = case[2]\n",
    "    preview = case[3]\n",
    "    when = case[4]\n",
    "    status = case[5]\n",
    "    settlement = case[6]\n",
    "    case_num = case[7]\n",
    "    url = case[9]\n",
    "\n",
    "    abuser = case[8].title()\n",
    "    abuser = models.Abuser.objects.get_or_create(\n",
    "        full_names = abuser)[0]\n",
    "    \n",
    "    cs = models.Case.objects.update_or_create(\n",
    "        title = title,\n",
    "        report_type = report_type,\n",
    "        occasion = ocassion,\n",
    "        preview = preview,\n",
    "        when = when,\n",
    "        reporter = quser,\n",
    "        perpetrators = abuser,\n",
    "        frequency = 1,\n",
    "        case_status = status,\n",
    "        settlement_type = settlement,\n",
    "        police_case_number = case_num)[0]\n",
    "    # cs.perpetrators.add(abuser)\n",
    "    print(cs)"
   ]
  },
  {
   "cell_type": "code",
   "execution_count": null,
   "metadata": {},
   "outputs": [],
   "source": []
  },
  {
   "source": [
    "# FetchMe"
   ],
   "cell_type": "markdown",
   "metadata": {}
  },
  {
   "cell_type": "code",
   "execution_count": 6,
   "metadata": {},
   "outputs": [
    {
     "output_type": "execute_result",
     "data": {
      "text/plain": [
       "<Address: Address object (25)>"
      ]
     },
     "metadata": {},
     "execution_count": 6
    }
   ],
   "source": [
    "address = addresses[np.random.randint(len(addresses))]\n",
    "address"
   ]
  },
  {
   "cell_type": "code",
   "execution_count": 7,
   "metadata": {},
   "outputs": [],
   "source": [
    "from datetime import datetime, timedelta"
   ]
  },
  {
   "cell_type": "code",
   "execution_count": 8,
   "metadata": {},
   "outputs": [
    {
     "output_type": "execute_result",
     "data": {
      "text/plain": [
       "<QuerySet [{'id': 1, 'primary_contact_number': '0817189287', 'secondary_contact_number': '0798595080', 'next_of_kin_firstname': 'Mabu', 'next_of_kin_lastname': 'Manaileng', 'next_of_kin_primary_contact_number': '0798595080', 'next_of_kin_secondary_contact_number': None}, {'id': 2, 'primary_contact_number': '0727308412', 'secondary_contact_number': None, 'next_of_kin_firstname': None, 'next_of_kin_lastname': None, 'next_of_kin_primary_contact_number': None, 'next_of_kin_secondary_contact_number': None}, {'id': 3, 'primary_contact_number': '0716634002', 'secondary_contact_number': None, 'next_of_kin_firstname': None, 'next_of_kin_lastname': None, 'next_of_kin_primary_contact_number': None, 'next_of_kin_secondary_contact_number': None}]>"
      ]
     },
     "metadata": {},
     "execution_count": 8
    }
   ],
   "source": [
    "models.ContactDetails.objects.all().values()"
   ]
  },
  {
   "cell_type": "code",
   "execution_count": 9,
   "metadata": {},
   "outputs": [
    {
     "output_type": "execute_result",
     "data": {
      "text/plain": [
       "(0, {})"
      ]
     },
     "metadata": {},
     "execution_count": 9
    }
   ],
   "source": [
    "models.FetchMeIncident.objects.all().delete()"
   ]
  },
  {
   "cell_type": "code",
   "execution_count": 10,
   "metadata": {},
   "outputs": [
    {
     "output_type": "stream",
     "name": "stdout",
     "text": [
      "Singal Recieved\nVictim: Mabu Manaileng \nLocation: 626 Kamdebo Rd, Florauna, Pretoria, 0182, South Africa\n"
     ]
    },
    {
     "output_type": "execute_result",
     "data": {
      "text/plain": [
       "<FetchMeIncident: FetchMeIncident object (9)>"
      ]
     },
     "metadata": {},
     "execution_count": 10
    }
   ],
   "source": [
    "inc = models.FetchMeIncident.objects.create(\n",
    "    incident_type=\"NOW\",\n",
    "    pickup_address=address,\n",
    "    pickup_time=datetime.now(),\n",
    "    victim_full_names=\"Mabu Manaileng\",\n",
    "    contact_details=models.ContactDetails.objects.get(id=1)\n",
    ")\n",
    "inc"
   ]
  },
  {
   "cell_type": "code",
   "execution_count": 8,
   "metadata": {},
   "outputs": [
    {
     "output_type": "execute_result",
     "data": {
      "text/plain": [
       "7"
      ]
     },
     "metadata": {},
     "execution_count": 8
    }
   ],
   "source": [
    "inc.id"
   ]
  },
  {
   "cell_type": "code",
   "execution_count": 11,
   "metadata": {},
   "outputs": [
    {
     "output_type": "execute_result",
     "data": {
      "text/plain": [
       "<FetchMeIncident: FetchMeIncident object (7)>"
      ]
     },
     "metadata": {},
     "execution_count": 11
    }
   ],
   "source": [
    "incident = models.FetchMeIncident.objects.get(id=inc.id)\n",
    "incident"
   ]
  },
  {
   "cell_type": "code",
   "execution_count": 12,
   "metadata": {},
   "outputs": [
    {
     "output_type": "execute_result",
     "data": {
      "text/plain": [
       "'Mabu Manaileng'"
      ]
     },
     "metadata": {},
     "execution_count": 12
    }
   ],
   "source": [
    "incident.victim_full_names"
   ]
  },
  {
   "cell_type": "code",
   "execution_count": 15,
   "metadata": {},
   "outputs": [
    {
     "output_type": "execute_result",
     "data": {
      "text/plain": [
       "'-26.2472189'"
      ]
     },
     "metadata": {},
     "execution_count": 15
    }
   ],
   "source": [
    "incident.pickup_address.lattitude"
   ]
  },
  {
   "cell_type": "code",
   "execution_count": 30,
   "metadata": {},
   "outputs": [
    {
     "output_type": "execute_result",
     "data": {
      "text/plain": [
       "<QuerySet [{'id': 1, 'incident_type': 'NOW', 'incident_status': 'WAITING', 'pickup_address_id': 17, 'pickup_time': datetime.datetime(2020, 10, 18, 15, 4, 5, 294305, tzinfo=<UTC>), 'victim_full_names': 'Mabu Manaileng', 'contact_details_id': 1}]>"
      ]
     },
     "metadata": {},
     "execution_count": 30
    }
   ],
   "source": [
    "models.FetchMeIncident.objects.all().values()"
   ]
  },
  {
   "cell_type": "code",
   "execution_count": 32,
   "metadata": {},
   "outputs": [],
   "source": [
    "inc[0].save()"
   ]
  },
  {
   "cell_type": "code",
   "execution_count": null,
   "metadata": {},
   "outputs": [],
   "source": []
  }
 ]
}