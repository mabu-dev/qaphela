{
 "metadata": {
  "language_info": {
   "codemirror_mode": {
    "name": "ipython",
    "version": 3
   },
   "file_extension": ".py",
   "mimetype": "text/x-python",
   "name": "python",
   "nbconvert_exporter": "python",
   "pygments_lexer": "ipython3",
   "version": "3.8.3-final"
  },
  "orig_nbformat": 2,
  "kernelspec": {
   "name": "Python 3.8.3 64-bit ('qaphelaApp': conda)",
   "display_name": "Python 3.8.3 64-bit ('qaphelaApp': conda)",
   "metadata": {
    "interpreter": {
     "hash": "bb89c8851fcf48e014594263135625c9ef445bf49a1bbad1cc739959a5da09cf"
    }
   }
  }
 },
 "nbformat": 4,
 "nbformat_minor": 2,
 "cells": [
  {
   "cell_type": "code",
   "execution_count": 1,
   "metadata": {},
   "outputs": [
    {
     "output_type": "stream",
     "name": "stdout",
     "text": [
      "total 8\n-rw-r--r--   1 mabu-dev  staff  104 Oct  7 19:12 README.md\ndrwxr-xr-x  15 mabu-dev  staff  480 Oct  7 19:14 \u001b[1m\u001b[36mqaphelaMobile\u001b[m\u001b[m/\ndrwxr-xr-x   8 mabu-dev  staff  256 Oct 11 23:01 \u001b[1m\u001b[36mqaphelaWeb\u001b[m\u001b[m/\n"
     ]
    }
   ],
   "source": [
    "ls -l ../../"
   ]
  },
  {
   "cell_type": "code",
   "execution_count": 2,
   "metadata": {},
   "outputs": [],
   "source": [
    "import pandas as pd\n",
    "import numpy as np\n",
    "from datetime import timedelta, datetime\n",
    "import sys,json\n",
    "import os\n",
    "import sqlalchemy as sa\n",
    "sys.path.append(\"../\")\n",
    "import django\n",
    "os.environ.setdefault('DJANGO_SETTINGS_MODULE', 'qaphelaWeb.settings')\n",
    "os.environ[\"DJANGO_ALLOW_ASYNC_UNSAFE\"] = \"true\"\n",
    "django.setup()\n",
    "from api import models\n",
    "from django.db.models import Count, Avg, Q, Prefetch, F, Subquery\n",
    "\n",
    "from IPython.display import clear_output"
   ]
  },
  {
   "cell_type": "code",
   "execution_count": 3,
   "metadata": {},
   "outputs": [],
   "source": [
    "scr_db = {\n",
    "    'NAME': 'deephealthdb',\n",
    "    'USER': 'deephealth',\n",
    "    'PASSWORD': 'd33ph3a1th',\n",
    "    # 'HOST': '35.228.3.60',\n",
    "    'HOST': 'localhost',\n",
    "    'PORT': '5432'\n",
    "}"
   ]
  },
  {
   "cell_type": "code",
   "execution_count": 4,
   "metadata": {},
   "outputs": [
    {
     "output_type": "execute_result",
     "data": {
      "text/plain": [
       "<sqlalchemy.engine.base.Connection at 0x7fc71f3234c0>"
      ]
     },
     "metadata": {},
     "execution_count": 4
    }
   ],
   "source": [
    "db = scr_db\n",
    "engine_string = \"postgresql+psycopg2://{user}:{password}@{host}:{port}/{database}\".format(\n",
    "    user = db['USER'],\n",
    "    password = db['PASSWORD'],\n",
    "    host = db['HOST'],\n",
    "    port = db['PORT'],\n",
    "    database = db['NAME'],\n",
    ")\n",
    "\n",
    "engine = sa.create_engine(engine_string)\n",
    "engine.connect()"
   ]
  },
  {
   "cell_type": "code",
   "execution_count": 5,
   "metadata": {},
   "outputs": [
    {
     "output_type": "execute_result",
     "data": {
      "text/plain": [
       "     id                                            address           city  \\\n",
       "0  1617             Farrarmere, Benoni, 1501, South Africa         Benoni   \n",
       "1  1759                                       Florida, USA            nan   \n",
       "2  3598  1 Chief Albert Luthuli Dr, Potchefstroom, 2531...  Potchefstroom   \n",
       "3  3518  46 Salazar Plain, Cape Town City Centre, Cape ...      Cape Town   \n",
       "4  3163  130 Bram Fischer Dr, Ferndale, Randburg, 2194,...       Randburg   \n",
       "\n",
       "        country            lattitude           longitude postal_code  \\\n",
       "0  South Africa          -26.1681312  28.302357899999997      1501.0   \n",
       "1           nan   27.664827399999997         -81.5157535         nan   \n",
       "2  South Africa  -26.700290399999997  27.096456300000003        2531   \n",
       "3  South Africa          -33.9184668          18.4296845        8000   \n",
       "4  South Africa            -26.10462            28.00252        2194   \n",
       "\n",
       "       province                 street_name street_number         suburb  \\\n",
       "0       Gauteng                         nan           nan     Farrarmere   \n",
       "1           nan                         nan           nan            nan   \n",
       "2    North West  Chief Albert Luthuli Drive             1  Potchefstroom   \n",
       "3  Western Cape               Salazar Plain            46            nan   \n",
       "4       Gauteng          Bram Fischer Drive           130       Ferndale   \n",
       "\n",
       "   graph_id  \n",
       "0       394  \n",
       "1       643  \n",
       "2      1176  \n",
       "3      1507  \n",
       "4      1610  "
      ],
      "text/html": "<div>\n<style scoped>\n    .dataframe tbody tr th:only-of-type {\n        vertical-align: middle;\n    }\n\n    .dataframe tbody tr th {\n        vertical-align: top;\n    }\n\n    .dataframe thead th {\n        text-align: right;\n    }\n</style>\n<table border=\"1\" class=\"dataframe\">\n  <thead>\n    <tr style=\"text-align: right;\">\n      <th></th>\n      <th>id</th>\n      <th>address</th>\n      <th>city</th>\n      <th>country</th>\n      <th>lattitude</th>\n      <th>longitude</th>\n      <th>postal_code</th>\n      <th>province</th>\n      <th>street_name</th>\n      <th>street_number</th>\n      <th>suburb</th>\n      <th>graph_id</th>\n    </tr>\n  </thead>\n  <tbody>\n    <tr>\n      <th>0</th>\n      <td>1617</td>\n      <td>Farrarmere, Benoni, 1501, South Africa</td>\n      <td>Benoni</td>\n      <td>South Africa</td>\n      <td>-26.1681312</td>\n      <td>28.302357899999997</td>\n      <td>1501.0</td>\n      <td>Gauteng</td>\n      <td>nan</td>\n      <td>nan</td>\n      <td>Farrarmere</td>\n      <td>394</td>\n    </tr>\n    <tr>\n      <th>1</th>\n      <td>1759</td>\n      <td>Florida, USA</td>\n      <td>nan</td>\n      <td>nan</td>\n      <td>27.664827399999997</td>\n      <td>-81.5157535</td>\n      <td>nan</td>\n      <td>nan</td>\n      <td>nan</td>\n      <td>nan</td>\n      <td>nan</td>\n      <td>643</td>\n    </tr>\n    <tr>\n      <th>2</th>\n      <td>3598</td>\n      <td>1 Chief Albert Luthuli Dr, Potchefstroom, 2531...</td>\n      <td>Potchefstroom</td>\n      <td>South Africa</td>\n      <td>-26.700290399999997</td>\n      <td>27.096456300000003</td>\n      <td>2531</td>\n      <td>North West</td>\n      <td>Chief Albert Luthuli Drive</td>\n      <td>1</td>\n      <td>Potchefstroom</td>\n      <td>1176</td>\n    </tr>\n    <tr>\n      <th>3</th>\n      <td>3518</td>\n      <td>46 Salazar Plain, Cape Town City Centre, Cape ...</td>\n      <td>Cape Town</td>\n      <td>South Africa</td>\n      <td>-33.9184668</td>\n      <td>18.4296845</td>\n      <td>8000</td>\n      <td>Western Cape</td>\n      <td>Salazar Plain</td>\n      <td>46</td>\n      <td>nan</td>\n      <td>1507</td>\n    </tr>\n    <tr>\n      <th>4</th>\n      <td>3163</td>\n      <td>130 Bram Fischer Dr, Ferndale, Randburg, 2194,...</td>\n      <td>Randburg</td>\n      <td>South Africa</td>\n      <td>-26.10462</td>\n      <td>28.00252</td>\n      <td>2194</td>\n      <td>Gauteng</td>\n      <td>Bram Fischer Drive</td>\n      <td>130</td>\n      <td>Ferndale</td>\n      <td>1610</td>\n    </tr>\n  </tbody>\n</table>\n</div>"
     },
     "metadata": {},
     "execution_count": 5
    }
   ],
   "source": [
    "address = pd.read_sql_table('api_address', engine)\n",
    "address.head()"
   ]
  },
  {
   "cell_type": "code",
   "execution_count": 6,
   "metadata": {},
   "outputs": [
    {
     "output_type": "execute_result",
     "data": {
      "text/plain": [
       "(50, 12)"
      ]
     },
     "metadata": {},
     "execution_count": 6
    }
   ],
   "source": [
    "address = address.sample(50)\n",
    "address.shape"
   ]
  },
  {
   "cell_type": "code",
   "execution_count": 7,
   "metadata": {},
   "outputs": [
    {
     "output_type": "execute_result",
     "data": {
      "text/plain": [
       "<ContactDetails: ContactDetails object (1)>"
      ]
     },
     "metadata": {},
     "execution_count": 7
    }
   ],
   "source": [
    "# contact_numbers = models.ContactDetails.objects.create(\n",
    "#     primary_contact_number = '0817189287',\n",
    "#     secondary_contact_number = '0798595080',\n",
    "#     next_of_kin_firstname = 'Mabu',\n",
    "#     next_of_kin_lasttname = 'Manaileng',\n",
    "#     next_of_kin_primary_contact_number = '0817189287')\n",
    "contact_numbers = models.ContactDetails.objects.get(id=1)\n",
    "contact_numbers"
   ]
  },
  {
   "cell_type": "code",
   "execution_count": 8,
   "metadata": {},
   "outputs": [
    {
     "output_type": "execute_result",
     "data": {
      "text/plain": [
       "['address',\n",
       " 'city',\n",
       " 'country',\n",
       " 'lattitude',\n",
       " 'longitude',\n",
       " 'postal_code',\n",
       " 'province',\n",
       " 'street_name',\n",
       " 'street_number',\n",
       " 'suburb']"
      ]
     },
     "metadata": {},
     "execution_count": 8
    }
   ],
   "source": [
    "cols = list(address.columns)\n",
    "cols.remove(\"id\")\n",
    "cols.remove(\"graph_id\")\n",
    "cols"
   ]
  },
  {
   "cell_type": "code",
   "execution_count": 9,
   "metadata": {},
   "outputs": [],
   "source": [
    "# for row in address.values:\n",
    "#     row = list(row)\n",
    "#     row = {col:val for col, val in zip(cols, row[1:-1])}\n",
    "#     addr = models.Address.objects.create(\n",
    "#         address = row['address'],\n",
    "#         city = row['city'],\n",
    "#         country = row['country'],\n",
    "#         lattitude = row['lattitude'],\n",
    "#         longitude = row['longitude'],\n",
    "#         postal_code = row['postal_code'],\n",
    "#         province = row['province'],\n",
    "#         street_name = row['street_name'],\n",
    "#         street_number = row['street_number'],\n",
    "#         suburb = row['suburb'])\n",
    "#     print(addr)"
   ]
  },
  {
   "cell_type": "code",
   "execution_count": 20,
   "metadata": {},
   "outputs": [
    {
     "output_type": "execute_result",
     "data": {
      "text/plain": [
       "<ContactDetails: ContactDetails object (2)>"
      ]
     },
     "metadata": {},
     "execution_count": 20
    }
   ],
   "source": [
    "contact_numbers = models.ContactDetails.objects.create(\n",
    "    primary_contact_number = '0798595080')\n",
    "contact_numbers = models.ContactDetails.objects.get(id=2)\n",
    "contact_numbers"
   ]
  },
  {
   "cell_type": "code",
   "execution_count": 11,
   "metadata": {},
   "outputs": [],
   "source": [
    "# social_profile = models.SocialProfiles.objects.create(\n",
    "#     name=\"Twitter\",\n",
    "#     profile_page=\"https://twitter.com/thisMabu\"\n",
    "# )\n",
    "\n",
    "social_profile = models.SocialProfiles.objects.get(id=1)"
   ]
  },
  {
   "cell_type": "code",
   "execution_count": 39,
   "metadata": {},
   "outputs": [
    {
     "output_type": "execute_result",
     "data": {
      "text/plain": [
       "<SocialProfiles: SocialProfiles object (1)>"
      ]
     },
     "metadata": {},
     "execution_count": 39
    }
   ],
   "source": []
  },
  {
   "cell_type": "code",
   "execution_count": 40,
   "metadata": {},
   "outputs": [],
   "source": [
    "from django.contrib.auth.hashers import make_password"
   ]
  },
  {
   "cell_type": "code",
   "execution_count": 15,
   "metadata": {},
   "outputs": [
    {
     "output_type": "execute_result",
     "data": {
      "text/plain": [
       "<User: 0817189287>"
      ]
     },
     "metadata": {},
     "execution_count": 15
    }
   ],
   "source": [
    "# user = django.contrib.auth.models.User.objects.create(\n",
    "#     username=\"0817189287\",\n",
    "#     first_name=\"Mabu\",\n",
    "#     last_name=\"Manaileng\",\n",
    "#     is_active=True,\n",
    "#     email=\"ManailengMJ@gmail.com\",\n",
    "#     password=make_password(\"11235\")\n",
    "# )\n",
    "user = django.contrib.auth.models.User.objects.get(id=1)\n",
    "user"
   ]
  },
  {
   "cell_type": "code",
   "execution_count": 48,
   "metadata": {},
   "outputs": [],
   "source": [
    "# models.QaphelaUser.objects.all().delete()"
   ]
  },
  {
   "cell_type": "code",
   "execution_count": 16,
   "metadata": {},
   "outputs": [
    {
     "output_type": "execute_result",
     "data": {
      "text/plain": [
       "<QaphelaUser: QaphelaUser object (1)>"
      ]
     },
     "metadata": {},
     "execution_count": 16
    }
   ],
   "source": [
    "# quser = models.QaphelaUser.objects.create(\n",
    "#     user = user,\n",
    "#     user_type = \"STANDARD\",\n",
    "#     is_dispatch_user = True,\n",
    "#     social_profiles = social_profile,\n",
    "#     contact_details = contact_numbers,\n",
    "#     address = addr)\n",
    "quser = models.QaphelaUser.objects.get(user_id=1)\n",
    "quser"
   ]
  },
  {
   "cell_type": "code",
   "execution_count": 21,
   "metadata": {},
   "outputs": [
    {
     "output_type": "execute_result",
     "data": {
      "text/plain": [
       "(2, {'api.Case': 1, 'api.Abuser': 1})"
      ]
     },
     "metadata": {},
     "execution_count": 21
    }
   ],
   "source": [
    "models.Abuser.objects.all().delete()"
   ]
  },
  {
   "cell_type": "code",
   "execution_count": 24,
   "metadata": {},
   "outputs": [
    {
     "output_type": "execute_result",
     "data": {
      "text/plain": [
       "<Abuser: Abuser object (2)>"
      ]
     },
     "metadata": {},
     "execution_count": 24
    }
   ],
   "source": [
    "# abuser = models.Abuser.objects.create(\n",
    "#     full_names = \"Diego Masemola\",\n",
    "#     social_profiles = social_profile,\n",
    "#     contact_details = contact_numbers,\n",
    "#     workplace_details = \"Research Scientist at Datawizzards as of October 2020\")\n",
    "abuser = models.Abuser.objects.get(id=2)\n",
    "abuser"
   ]
  },
  {
   "cell_type": "code",
   "execution_count": 26,
   "metadata": {},
   "outputs": [
    {
     "output_type": "execute_result",
     "data": {
      "text/plain": [
       "<QuerySet []>"
      ]
     },
     "metadata": {},
     "execution_count": 26
    }
   ],
   "source": [
    "models.Case.objects.all() #.delete()"
   ]
  },
  {
   "cell_type": "code",
   "execution_count": 27,
   "metadata": {},
   "outputs": [
    {
     "output_type": "execute_result",
     "data": {
      "text/plain": [
       "<Case: Case object (2)>"
      ]
     },
     "metadata": {},
     "execution_count": 27
    }
   ],
   "source": [
    "case = models.Case.objects.create(\n",
    "    title = \"Diego Masemola raped me\",\n",
    "    report_type = \"REPORT\",\n",
    "    occasion = \"WORK\",\n",
    "    preview = \"We were at a work function when we both got drunk. \\\n",
    "        He forced to come to my room with me and forced himself on me, after I repeatedly said NO!, STOP!\\\n",
    "            I reported him to HR and he admitted guilt, he was subsequently fired from the company.\\\n",
    "                 We settled things out of court.\",\n",
    "    when = \"2020-02-23\",\n",
    "    perpetrators = abuser,\n",
    "    reporter = quser,\n",
    "    frequency = 1,\n",
    "    case_status = \"VERIFIED\",\n",
    "    settlement_type = \"OUT OF COURT\",\n",
    "    police_case_number = \"2020/01/234\")\n",
    "case"
   ]
  },
  {
   "cell_type": "code",
   "execution_count": null,
   "metadata": {},
   "outputs": [],
   "source": []
  }
 ]
}